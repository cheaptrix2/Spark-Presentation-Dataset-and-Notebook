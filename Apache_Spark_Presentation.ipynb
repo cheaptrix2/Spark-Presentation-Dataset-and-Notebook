{
 "cells": [
  {
   "cell_type": "markdown",
   "id": "18e6daa0-2bf4-46df-8cae-c1ffe6c66d6e",
   "metadata": {},
   "source": [
    "## To install pyspark into your JuypterHub Azure/Biosim type the following:\n",
    "#### \\$pip install --user pyspark\n",
    "#### \\$pip install --user findspark"
   ]
  },
  {
   "cell_type": "markdown",
   "id": "fb50498b-1ffe-4c43-a5cb-62ae7080d2a7",
   "metadata": {},
   "source": [
    "## Before you run any of this code, ensure you have a terminal open and have started spark by typing the command $pyspark into the terminal"
   ]
  },
  {
   "cell_type": "code",
   "execution_count": 1,
   "id": "2d84c44e-875d-495c-a67e-72597529cc2a",
   "metadata": {},
   "outputs": [
    {
     "name": "stderr",
     "output_type": "stream",
     "text": [
      "Setting default log level to \"WARN\".\n",
      "To adjust logging level use sc.setLogLevel(newLevel). For SparkR, use setLogLevel(newLevel).\n",
      "23/11/08 10:53:55 WARN NativeCodeLoader: Unable to load native-hadoop library for your platform... using builtin-java classes where applicable\n",
      "23/11/08 10:53:55 WARN Utils: Service 'SparkUI' could not bind on port 4040. Attempting port 4041.\n"
     ]
    }
   ],
   "source": [
    "# Import to find Spark on PC\n",
    "import findspark\n",
    "findspark.init()\n",
    "findspark.find()\n",
    "\n",
    "# Importing pyspark and Spark Session\n",
    "import pyspark\n",
    "from pyspark.sql import SparkSession\n",
    "\n",
    "# Import garbage collector for deleting dataframes\n",
    "import gc\n",
    "\n",
    "# Creating a sprark session\n",
    "spark = SparkSession.builder.master(\"local[1]\").appName(\"ECG\").getOrCreate()"
   ]
  },
  {
   "cell_type": "code",
   "execution_count": 2,
   "id": "c41c46be-d377-4564-a244-0a009531b444",
   "metadata": {},
   "outputs": [],
   "source": [
    "# Import data into dataframe\n",
    "df = spark.read.csv(\"ecg.csv\", header=False, inferSchema=True)"
   ]
  },
  {
   "cell_type": "code",
   "execution_count": 3,
   "id": "a72a7d31-7d6d-4542-990d-759a5e0d142d",
   "metadata": {},
   "outputs": [
    {
     "data": {
      "text/plain": [
       "StructType([StructField('_c0', DoubleType(), True), StructField('_c1', DoubleType(), True), StructField('_c2', DoubleType(), True), StructField('_c3', DoubleType(), True), StructField('_c4', DoubleType(), True), StructField('_c5', DoubleType(), True), StructField('_c6', DoubleType(), True), StructField('_c7', DoubleType(), True), StructField('_c8', DoubleType(), True), StructField('_c9', DoubleType(), True), StructField('_c10', DoubleType(), True), StructField('_c11', DoubleType(), True), StructField('_c12', DoubleType(), True), StructField('_c13', DoubleType(), True), StructField('_c14', DoubleType(), True), StructField('_c15', DoubleType(), True), StructField('_c16', DoubleType(), True), StructField('_c17', DoubleType(), True), StructField('_c18', DoubleType(), True), StructField('_c19', DoubleType(), True), StructField('_c20', DoubleType(), True), StructField('_c21', DoubleType(), True), StructField('_c22', DoubleType(), True), StructField('_c23', DoubleType(), True), StructField('_c24', DoubleType(), True), StructField('_c25', DoubleType(), True), StructField('_c26', DoubleType(), True), StructField('_c27', DoubleType(), True), StructField('_c28', DoubleType(), True), StructField('_c29', DoubleType(), True), StructField('_c30', DoubleType(), True), StructField('_c31', DoubleType(), True), StructField('_c32', DoubleType(), True), StructField('_c33', DoubleType(), True), StructField('_c34', DoubleType(), True), StructField('_c35', DoubleType(), True), StructField('_c36', DoubleType(), True), StructField('_c37', DoubleType(), True), StructField('_c38', DoubleType(), True), StructField('_c39', DoubleType(), True), StructField('_c40', DoubleType(), True), StructField('_c41', DoubleType(), True), StructField('_c42', DoubleType(), True), StructField('_c43', DoubleType(), True), StructField('_c44', DoubleType(), True), StructField('_c45', DoubleType(), True), StructField('_c46', DoubleType(), True), StructField('_c47', DoubleType(), True), StructField('_c48', DoubleType(), True), StructField('_c49', DoubleType(), True), StructField('_c50', DoubleType(), True), StructField('_c51', DoubleType(), True), StructField('_c52', DoubleType(), True), StructField('_c53', DoubleType(), True), StructField('_c54', DoubleType(), True), StructField('_c55', DoubleType(), True), StructField('_c56', DoubleType(), True), StructField('_c57', DoubleType(), True), StructField('_c58', DoubleType(), True), StructField('_c59', DoubleType(), True), StructField('_c60', DoubleType(), True), StructField('_c61', DoubleType(), True), StructField('_c62', DoubleType(), True), StructField('_c63', DoubleType(), True), StructField('_c64', DoubleType(), True), StructField('_c65', DoubleType(), True), StructField('_c66', DoubleType(), True), StructField('_c67', DoubleType(), True), StructField('_c68', DoubleType(), True), StructField('_c69', DoubleType(), True), StructField('_c70', DoubleType(), True), StructField('_c71', DoubleType(), True), StructField('_c72', DoubleType(), True), StructField('_c73', DoubleType(), True), StructField('_c74', DoubleType(), True), StructField('_c75', DoubleType(), True), StructField('_c76', DoubleType(), True), StructField('_c77', DoubleType(), True), StructField('_c78', DoubleType(), True), StructField('_c79', DoubleType(), True), StructField('_c80', DoubleType(), True), StructField('_c81', DoubleType(), True), StructField('_c82', DoubleType(), True), StructField('_c83', DoubleType(), True), StructField('_c84', DoubleType(), True), StructField('_c85', DoubleType(), True), StructField('_c86', DoubleType(), True), StructField('_c87', DoubleType(), True), StructField('_c88', DoubleType(), True), StructField('_c89', DoubleType(), True), StructField('_c90', DoubleType(), True), StructField('_c91', DoubleType(), True), StructField('_c92', DoubleType(), True), StructField('_c93', DoubleType(), True), StructField('_c94', DoubleType(), True), StructField('_c95', DoubleType(), True), StructField('_c96', DoubleType(), True), StructField('_c97', DoubleType(), True), StructField('_c98', DoubleType(), True), StructField('_c99', DoubleType(), True), StructField('_c100', DoubleType(), True), StructField('_c101', DoubleType(), True), StructField('_c102', DoubleType(), True), StructField('_c103', DoubleType(), True), StructField('_c104', DoubleType(), True), StructField('_c105', DoubleType(), True), StructField('_c106', DoubleType(), True), StructField('_c107', DoubleType(), True), StructField('_c108', DoubleType(), True), StructField('_c109', DoubleType(), True), StructField('_c110', DoubleType(), True), StructField('_c111', DoubleType(), True), StructField('_c112', DoubleType(), True), StructField('_c113', DoubleType(), True), StructField('_c114', DoubleType(), True), StructField('_c115', DoubleType(), True), StructField('_c116', DoubleType(), True), StructField('_c117', DoubleType(), True), StructField('_c118', DoubleType(), True), StructField('_c119', DoubleType(), True), StructField('_c120', DoubleType(), True), StructField('_c121', DoubleType(), True), StructField('_c122', DoubleType(), True), StructField('_c123', DoubleType(), True), StructField('_c124', DoubleType(), True), StructField('_c125', DoubleType(), True), StructField('_c126', DoubleType(), True), StructField('_c127', DoubleType(), True), StructField('_c128', DoubleType(), True), StructField('_c129', DoubleType(), True), StructField('_c130', DoubleType(), True), StructField('_c131', DoubleType(), True), StructField('_c132', DoubleType(), True), StructField('_c133', DoubleType(), True), StructField('_c134', DoubleType(), True), StructField('_c135', DoubleType(), True), StructField('_c136', DoubleType(), True), StructField('_c137', DoubleType(), True), StructField('_c138', DoubleType(), True), StructField('_c139', DoubleType(), True), StructField('_c140', IntegerType(), True)])"
      ]
     },
     "execution_count": 3,
     "metadata": {},
     "output_type": "execute_result"
    }
   ],
   "source": [
    "df.schema"
   ]
  },
  {
   "cell_type": "code",
   "execution_count": 4,
   "id": "20f2956c-1ca5-4e31-84b8-e55290d958c5",
   "metadata": {},
   "outputs": [],
   "source": [
    "# Change name of last column to label\n",
    "df = df.withColumnRenamed(df.columns[-1], \"label\")"
   ]
  },
  {
   "cell_type": "code",
   "execution_count": 5,
   "id": "e21b0b24-9af0-4624-bc49-970c8a2bfa86",
   "metadata": {},
   "outputs": [
    {
     "name": "stdout",
     "output_type": "stream",
     "text": [
      "+-----+-----+\n",
      "|label|count|\n",
      "+-----+-----+\n",
      "|    1| 2919|\n",
      "|    0| 2079|\n",
      "+-----+-----+\n",
      "\n"
     ]
    }
   ],
   "source": [
    "# Showing the different label counts\n",
    "df.groupBy('label').count().show()"
   ]
  },
  {
   "cell_type": "code",
   "execution_count": 6,
   "id": "8b71c478-90d2-4420-ae11-1632c6c4b638",
   "metadata": {},
   "outputs": [],
   "source": [
    "# Creating a new data frame with only the 1's in the label\n",
    "df2 = df.filter(df['label'] == '1')"
   ]
  },
  {
   "cell_type": "code",
   "execution_count": 7,
   "id": "c359bbc1-c105-45b5-89d2-bc5e43b05634",
   "metadata": {},
   "outputs": [
    {
     "name": "stdout",
     "output_type": "stream",
     "text": [
      "+-----+-----+\n",
      "|label|count|\n",
      "+-----+-----+\n",
      "|    1| 2919|\n",
      "+-----+-----+\n",
      "\n"
     ]
    }
   ],
   "source": [
    "# Showing the dataframe label count\n",
    "df2.groupBy('label').count().show()"
   ]
  },
  {
   "cell_type": "code",
   "execution_count": 8,
   "id": "7ccf6eb3-80ee-418f-a99d-60fe4b0519b8",
   "metadata": {},
   "outputs": [
    {
     "name": "stdout",
     "output_type": "stream",
     "text": [
      "+-----+-----+\n",
      "|label|count|\n",
      "+-----+-----+\n",
      "|    1| 2919|\n",
      "|    0| 2079|\n",
      "+-----+-----+\n",
      "\n"
     ]
    }
   ],
   "source": [
    "# Showing that the original dataframe didn't change\n",
    "df.groupBy('label').count().show()"
   ]
  },
  {
   "cell_type": "code",
   "execution_count": 9,
   "id": "17e69ac4-8fee-4b11-bd2b-d71b465e3253",
   "metadata": {},
   "outputs": [],
   "source": [
    "# Overwriting of dataframe with only data that has 0 as the label\n",
    "df = df.filter(df['label'] == '0')"
   ]
  },
  {
   "cell_type": "code",
   "execution_count": 10,
   "id": "f3059260-0a22-4d19-b6c8-c898dd3ef8f3",
   "metadata": {},
   "outputs": [
    {
     "name": "stdout",
     "output_type": "stream",
     "text": [
      "+-----+-----+\n",
      "|label|count|\n",
      "+-----+-----+\n",
      "|    0| 2079|\n",
      "+-----+-----+\n",
      "\n"
     ]
    }
   ],
   "source": [
    "# Showing new dataframe with only 0 in labels\n",
    "df.groupBy('label').count().show()"
   ]
  },
  {
   "cell_type": "code",
   "execution_count": 11,
   "id": "69a27a20-ceac-45b4-b2e4-1c4ed5c52325",
   "metadata": {},
   "outputs": [],
   "source": [
    "# Seeded random split to get data with label of 1 as close to the number of data with 0 as possible (2079)\n",
    "df3, df4 = df2.randomSplit([0.30, 0.70], seed=1000)"
   ]
  },
  {
   "cell_type": "code",
   "execution_count": 12,
   "id": "33b723d8-aaab-4d65-957c-815a654a38f2",
   "metadata": {},
   "outputs": [
    {
     "name": "stderr",
     "output_type": "stream",
     "text": [
      "23/11/08 10:54:03 WARN SparkStringUtils: Truncated the string representation of a plan since it was too large. This behavior can be adjusted by setting 'spark.sql.debug.maxToStringFields'.\n"
     ]
    },
    {
     "name": "stdout",
     "output_type": "stream",
     "text": [
      "+-----+-----+\n",
      "|label|count|\n",
      "+-----+-----+\n",
      "|    1|  844|\n",
      "+-----+-----+\n",
      "\n"
     ]
    },
    {
     "name": "stderr",
     "output_type": "stream",
     "text": [
      "                                                                                \r"
     ]
    }
   ],
   "source": [
    "# Showing the number that should be removed to have the classification ration to nearly 50% exactly\n",
    "df3.groupBy('label').count().show()"
   ]
  },
  {
   "cell_type": "code",
   "execution_count": 13,
   "id": "4fc8ae4a-0c33-4976-963b-cd70251be4da",
   "metadata": {},
   "outputs": [
    {
     "name": "stdout",
     "output_type": "stream",
     "text": [
      "+-----+-----+\n",
      "|label|count|\n",
      "+-----+-----+\n",
      "|    1| 2075|\n",
      "+-----+-----+\n",
      "\n"
     ]
    }
   ],
   "source": [
    "# Showing the number that should be added to the original dataframe to restore data\n",
    "df4.groupBy('label').count().show()"
   ]
  },
  {
   "cell_type": "code",
   "execution_count": 14,
   "id": "6838b10b-b540-49b3-9d1b-46b307462c37",
   "metadata": {},
   "outputs": [],
   "source": [
    "# Using the union method to add the dataframe with only 1's in it to the dataframe that has only 0's\n",
    "df = df.union(df4)"
   ]
  },
  {
   "cell_type": "code",
   "execution_count": 15,
   "id": "f2c84044-8fb7-4c64-8736-a15b9f68b154",
   "metadata": {},
   "outputs": [
    {
     "name": "stdout",
     "output_type": "stream",
     "text": [
      "+-----+-----+\n",
      "|label|count|\n",
      "+-----+-----+\n",
      "|    0| 2079|\n",
      "|    1| 2075|\n",
      "+-----+-----+\n",
      "\n"
     ]
    }
   ],
   "source": [
    "# New dataframe that will be used for the machine learning models that have a classification percentage very close to 50%\n",
    "df.groupBy('label').count().show()"
   ]
  },
  {
   "cell_type": "code",
   "execution_count": 16,
   "id": "8fbe4b1e-35e4-4ec1-a999-b9e707543c16",
   "metadata": {},
   "outputs": [
    {
     "name": "stdout",
     "output_type": "stream",
     "text": [
      "Percentage of 1's:  49.951853635050554\n"
     ]
    }
   ],
   "source": [
    "# Showing percentage of 1's in the dataframe\n",
    "print(\"Percentage of 1's: \", (2075 / (2079 + 2075)) * 100)"
   ]
  },
  {
   "cell_type": "code",
   "execution_count": 17,
   "id": "2298c42a-e7a8-4744-aa39-00628b02b3d5",
   "metadata": {},
   "outputs": [
    {
     "name": "stdout",
     "output_type": "stream",
     "text": [
      "Percentage of 0's:  50.04814636494944\n"
     ]
    }
   ],
   "source": [
    "# Showing percentage of 0's in the dataframe\n",
    "print(\"Percentage of 0's: \", (2079 / (2079 + 2075)) * 100)"
   ]
  },
  {
   "cell_type": "code",
   "execution_count": 18,
   "id": "b604aff4-cbcb-4eb9-9036-fa0b87512d73",
   "metadata": {},
   "outputs": [
    {
     "data": {
      "text/plain": [
       "118"
      ]
     },
     "execution_count": 18,
     "metadata": {},
     "output_type": "execute_result"
    }
   ],
   "source": [
    "# Deleting unused dataframes\n",
    "del df2\n",
    "del df3\n",
    "del df4\n",
    "\n",
    "# Using the garbage collector to free the memory\n",
    "gc.collect()"
   ]
  },
  {
   "cell_type": "code",
   "execution_count": null,
   "id": "19137f8b-159c-4a80-9247-eac94d4e2179",
   "metadata": {},
   "outputs": [],
   "source": [
    "# Showing the dataframe has been removed\n",
    "#df2.count()"
   ]
  },
  {
   "cell_type": "code",
   "execution_count": null,
   "id": "1b8e7ea7-6e7f-404e-8e2e-d000f796db4e",
   "metadata": {},
   "outputs": [],
   "source": [
    "# Showing the dataframe has been removed\n",
    "#df3.count()"
   ]
  },
  {
   "cell_type": "code",
   "execution_count": null,
   "id": "1c7af2cf-a980-4564-a52d-781b956590f0",
   "metadata": {},
   "outputs": [],
   "source": [
    "# Showing the dataframe has been removed\n",
    "#df4.count()"
   ]
  },
  {
   "cell_type": "code",
   "execution_count": 19,
   "id": "5b683b0a-fa1e-4b52-957c-8545ee611cf4",
   "metadata": {},
   "outputs": [
    {
     "data": {
      "text/plain": [
       "StructType([StructField('_c0', DoubleType(), True), StructField('_c1', DoubleType(), True), StructField('_c2', DoubleType(), True), StructField('_c3', DoubleType(), True), StructField('_c4', DoubleType(), True), StructField('_c5', DoubleType(), True), StructField('_c6', DoubleType(), True), StructField('_c7', DoubleType(), True), StructField('_c8', DoubleType(), True), StructField('_c9', DoubleType(), True), StructField('_c10', DoubleType(), True), StructField('_c11', DoubleType(), True), StructField('_c12', DoubleType(), True), StructField('_c13', DoubleType(), True), StructField('_c14', DoubleType(), True), StructField('_c15', DoubleType(), True), StructField('_c16', DoubleType(), True), StructField('_c17', DoubleType(), True), StructField('_c18', DoubleType(), True), StructField('_c19', DoubleType(), True), StructField('_c20', DoubleType(), True), StructField('_c21', DoubleType(), True), StructField('_c22', DoubleType(), True), StructField('_c23', DoubleType(), True), StructField('_c24', DoubleType(), True), StructField('_c25', DoubleType(), True), StructField('_c26', DoubleType(), True), StructField('_c27', DoubleType(), True), StructField('_c28', DoubleType(), True), StructField('_c29', DoubleType(), True), StructField('_c30', DoubleType(), True), StructField('_c31', DoubleType(), True), StructField('_c32', DoubleType(), True), StructField('_c33', DoubleType(), True), StructField('_c34', DoubleType(), True), StructField('_c35', DoubleType(), True), StructField('_c36', DoubleType(), True), StructField('_c37', DoubleType(), True), StructField('_c38', DoubleType(), True), StructField('_c39', DoubleType(), True), StructField('_c40', DoubleType(), True), StructField('_c41', DoubleType(), True), StructField('_c42', DoubleType(), True), StructField('_c43', DoubleType(), True), StructField('_c44', DoubleType(), True), StructField('_c45', DoubleType(), True), StructField('_c46', DoubleType(), True), StructField('_c47', DoubleType(), True), StructField('_c48', DoubleType(), True), StructField('_c49', DoubleType(), True), StructField('_c50', DoubleType(), True), StructField('_c51', DoubleType(), True), StructField('_c52', DoubleType(), True), StructField('_c53', DoubleType(), True), StructField('_c54', DoubleType(), True), StructField('_c55', DoubleType(), True), StructField('_c56', DoubleType(), True), StructField('_c57', DoubleType(), True), StructField('_c58', DoubleType(), True), StructField('_c59', DoubleType(), True), StructField('_c60', DoubleType(), True), StructField('_c61', DoubleType(), True), StructField('_c62', DoubleType(), True), StructField('_c63', DoubleType(), True), StructField('_c64', DoubleType(), True), StructField('_c65', DoubleType(), True), StructField('_c66', DoubleType(), True), StructField('_c67', DoubleType(), True), StructField('_c68', DoubleType(), True), StructField('_c69', DoubleType(), True), StructField('_c70', DoubleType(), True), StructField('_c71', DoubleType(), True), StructField('_c72', DoubleType(), True), StructField('_c73', DoubleType(), True), StructField('_c74', DoubleType(), True), StructField('_c75', DoubleType(), True), StructField('_c76', DoubleType(), True), StructField('_c77', DoubleType(), True), StructField('_c78', DoubleType(), True), StructField('_c79', DoubleType(), True), StructField('_c80', DoubleType(), True), StructField('_c81', DoubleType(), True), StructField('_c82', DoubleType(), True), StructField('_c83', DoubleType(), True), StructField('_c84', DoubleType(), True), StructField('_c85', DoubleType(), True), StructField('_c86', DoubleType(), True), StructField('_c87', DoubleType(), True), StructField('_c88', DoubleType(), True), StructField('_c89', DoubleType(), True), StructField('_c90', DoubleType(), True), StructField('_c91', DoubleType(), True), StructField('_c92', DoubleType(), True), StructField('_c93', DoubleType(), True), StructField('_c94', DoubleType(), True), StructField('_c95', DoubleType(), True), StructField('_c96', DoubleType(), True), StructField('_c97', DoubleType(), True), StructField('_c98', DoubleType(), True), StructField('_c99', DoubleType(), True), StructField('_c100', DoubleType(), True), StructField('_c101', DoubleType(), True), StructField('_c102', DoubleType(), True), StructField('_c103', DoubleType(), True), StructField('_c104', DoubleType(), True), StructField('_c105', DoubleType(), True), StructField('_c106', DoubleType(), True), StructField('_c107', DoubleType(), True), StructField('_c108', DoubleType(), True), StructField('_c109', DoubleType(), True), StructField('_c110', DoubleType(), True), StructField('_c111', DoubleType(), True), StructField('_c112', DoubleType(), True), StructField('_c113', DoubleType(), True), StructField('_c114', DoubleType(), True), StructField('_c115', DoubleType(), True), StructField('_c116', DoubleType(), True), StructField('_c117', DoubleType(), True), StructField('_c118', DoubleType(), True), StructField('_c119', DoubleType(), True), StructField('_c120', DoubleType(), True), StructField('_c121', DoubleType(), True), StructField('_c122', DoubleType(), True), StructField('_c123', DoubleType(), True), StructField('_c124', DoubleType(), True), StructField('_c125', DoubleType(), True), StructField('_c126', DoubleType(), True), StructField('_c127', DoubleType(), True), StructField('_c128', DoubleType(), True), StructField('_c129', DoubleType(), True), StructField('_c130', DoubleType(), True), StructField('_c131', DoubleType(), True), StructField('_c132', DoubleType(), True), StructField('_c133', DoubleType(), True), StructField('_c134', DoubleType(), True), StructField('_c135', DoubleType(), True), StructField('_c136', DoubleType(), True), StructField('_c137', DoubleType(), True), StructField('_c138', DoubleType(), True), StructField('_c139', DoubleType(), True), StructField('label', IntegerType(), True)])"
      ]
     },
     "execution_count": 19,
     "metadata": {},
     "output_type": "execute_result"
    }
   ],
   "source": [
    "# Showing the infered schema of the dataframe\n",
    "df.schema"
   ]
  },
  {
   "cell_type": "code",
   "execution_count": 20,
   "id": "f0c2e970-e279-4f33-a07d-97f5ee535c2e",
   "metadata": {},
   "outputs": [
    {
     "name": "stdout",
     "output_type": "stream",
     "text": [
      "+------------+-----------+-----------+----------+----------+----------+----------+---------+----------+----------+----------+----------+-----------+-----------+-----------+-----------+-----------+----------+----------+----------+----------+----------+----------+----------+----------+----------+----------+---------+----------+----------+---------+----------+----------+----------+----------+----------+----------+----------+----------+----------+----------+----------+----------+----------+----------+----------+----------+----------+----------+----------+----------+----------+----------+----------+-----------+-----------+----------+----------+----------+----------+----------+----------+----------+----------+----------+----------+---------+----------+----------+----------+---------+----------+----------+----------+----------+----------+----------+----------+----------+----------+----------+---------+----------+---------+----------+----------+----------+----------+----------+----------+----------+----------+----------+----------+----------+----------+----------+----------+----------+----------+----------+----------+----------+----------+----------+----------+----------+----------+----------+----------+----------+----------+----------+----------+----------+----------+----------+----------+----------+----------+----------+----------+----------+----------+----------+-----------+-----------+-----------+---------+-----------+-----------+----------+----------+----------+----------+----------+---------+----------+----------+-----------+-----+\n",
      "|         _c0|        _c1|        _c2|       _c3|       _c4|       _c5|       _c6|      _c7|       _c8|       _c9|      _c10|      _c11|       _c12|       _c13|       _c14|       _c15|       _c16|      _c17|      _c18|      _c19|      _c20|      _c21|      _c22|      _c23|      _c24|      _c25|      _c26|     _c27|      _c28|      _c29|     _c30|      _c31|      _c32|      _c33|      _c34|      _c35|      _c36|      _c37|      _c38|      _c39|      _c40|      _c41|      _c42|      _c43|      _c44|      _c45|      _c46|      _c47|      _c48|      _c49|      _c50|      _c51|      _c52|      _c53|       _c54|       _c55|      _c56|      _c57|      _c58|      _c59|      _c60|      _c61|      _c62|      _c63|      _c64|      _c65|     _c66|      _c67|      _c68|      _c69|     _c70|      _c71|      _c72|      _c73|      _c74|      _c75|      _c76|      _c77|      _c78|      _c79|      _c80|     _c81|      _c82|     _c83|      _c84|      _c85|      _c86|      _c87|      _c88|      _c89|      _c90|      _c91|      _c92|      _c93|      _c94|      _c95|      _c96|      _c97|      _c98|      _c99|     _c100|     _c101|     _c102|     _c103|     _c104|     _c105|     _c106|     _c107|     _c108|     _c109|     _c110|     _c111|     _c112|     _c113|     _c114|     _c115|     _c116|     _c117|     _c118|     _c119|     _c120|     _c121|     _c122|     _c123|     _c124|      _c125|      _c126|      _c127|    _c128|      _c129|      _c130|     _c131|     _c132|     _c133|     _c134|     _c135|    _c136|     _c137|     _c138|      _c139|label|\n",
      "+------------+-----------+-----------+----------+----------+----------+----------+---------+----------+----------+----------+----------+-----------+-----------+-----------+-----------+-----------+----------+----------+----------+----------+----------+----------+----------+----------+----------+----------+---------+----------+----------+---------+----------+----------+----------+----------+----------+----------+----------+----------+----------+----------+----------+----------+----------+----------+----------+----------+----------+----------+----------+----------+----------+----------+----------+-----------+-----------+----------+----------+----------+----------+----------+----------+----------+----------+----------+----------+---------+----------+----------+----------+---------+----------+----------+----------+----------+----------+----------+----------+----------+----------+----------+---------+----------+---------+----------+----------+----------+----------+----------+----------+----------+----------+----------+----------+----------+----------+----------+----------+----------+----------+----------+----------+----------+----------+----------+----------+----------+----------+----------+----------+----------+----------+----------+----------+----------+----------+----------+----------+----------+----------+----------+----------+----------+----------+----------+-----------+-----------+-----------+---------+-----------+-----------+----------+----------+----------+----------+----------+---------+----------+----------+-----------+-----+\n",
      "|-0.032245388|-0.54504988|-0.82233951|-1.6050845|-1.8057748|-2.0080666|-2.2339748|-2.191458|-2.0580713|-1.8808487|-1.5980847|-1.0734666|-0.60601763|-0.40062774|-0.30974032|-0.27599315|-0.16190422|0.10850521|0.30977527|0.41252896|0.53814803|0.54247379|0.42785112|0.37815942|0.36188738|0.37976272|0.45375055|0.5483923|0.67794169|0.66825595|0.4131611|0.22767328|0.27982432|0.35898388|0.40398305|0.43035215|0.40867432|0.42049766|0.42107193|0.32161806|0.22971489|0.20655718|0.22594547|0.34068889|0.44956444|0.40496562|0.30956912|0.24239092|0.17865089|0.18501601|0.33981574|0.51298385|0.47234082|0.24335581|0.082250646|0.041823061|0.04329214|0.16040296|0.26450173|0.21102713|0.22029886|0.31735332|0.31367233|0.31088657|0.38498299|0.36784817|0.2984939|0.31753582|0.32696731|0.29884615|0.3674174|0.47894802|0.51140793|0.49840732|0.49130584|0.50073549|0.49360933|0.53874692|0.63148766|0.57849716|0.53415701|0.6395139|0.67505033|0.5978203|0.48834268|0.39688329|0.42172264|0.51001168|0.55461096|0.59630145|0.57140413|0.45837937|0.44734872|0.50965739|0.53081508|0.51322441|0.46546407|0.49637166|0.60659122|0.66603659|0.62919292|0.54553078|0.54543892|0.60964795|0.59777943|0.57261331|0.60459362|0.57085274|0.48861488|0.48893631|0.51936437|0.55129762|0.61166333|0.61427183|0.55032934|0.48756962|0.41517402|0.39897417|0.53464846|0.66442392|0.63454566|0.56613755|0.47991327|0.29107729|0.10251066|0.018347409|0.043036237|0.038287591|-0.168029|-0.44347067|-0.90642467|-1.6213757|-2.3290905|-3.0498941|-3.6204134|-4.2104818|-4.043785|-3.0518127|-2.8068663|-0.87966639|    0|\n",
      "+------------+-----------+-----------+----------+----------+----------+----------+---------+----------+----------+----------+----------+-----------+-----------+-----------+-----------+-----------+----------+----------+----------+----------+----------+----------+----------+----------+----------+----------+---------+----------+----------+---------+----------+----------+----------+----------+----------+----------+----------+----------+----------+----------+----------+----------+----------+----------+----------+----------+----------+----------+----------+----------+----------+----------+----------+-----------+-----------+----------+----------+----------+----------+----------+----------+----------+----------+----------+----------+---------+----------+----------+----------+---------+----------+----------+----------+----------+----------+----------+----------+----------+----------+----------+---------+----------+---------+----------+----------+----------+----------+----------+----------+----------+----------+----------+----------+----------+----------+----------+----------+----------+----------+----------+----------+----------+----------+----------+----------+----------+----------+----------+----------+----------+----------+----------+----------+----------+----------+----------+----------+----------+----------+----------+----------+----------+----------+----------+-----------+-----------+-----------+---------+-----------+-----------+----------+----------+----------+----------+----------+---------+----------+----------+-----------+-----+\n",
      "only showing top 1 row\n",
      "\n"
     ]
    }
   ],
   "source": [
    "# Showing only the first row of the dataframe\n",
    "df.show(1)"
   ]
  },
  {
   "cell_type": "code",
   "execution_count": 21,
   "id": "2e24bd71-d04b-4b89-857f-7715341843ff",
   "metadata": {},
   "outputs": [],
   "source": [
    "# Creating a list of all column names that are features (minus the last column which is the label)\n",
    "features_list = df.columns[:-1]"
   ]
  },
  {
   "cell_type": "code",
   "execution_count": 22,
   "id": "aee829d1-9cec-4ceb-8216-bfea93949081",
   "metadata": {},
   "outputs": [
    {
     "data": {
      "text/plain": [
       "['_c0',\n",
       " '_c1',\n",
       " '_c2',\n",
       " '_c3',\n",
       " '_c4',\n",
       " '_c5',\n",
       " '_c6',\n",
       " '_c7',\n",
       " '_c8',\n",
       " '_c9',\n",
       " '_c10',\n",
       " '_c11',\n",
       " '_c12',\n",
       " '_c13',\n",
       " '_c14',\n",
       " '_c15',\n",
       " '_c16',\n",
       " '_c17',\n",
       " '_c18',\n",
       " '_c19',\n",
       " '_c20',\n",
       " '_c21',\n",
       " '_c22',\n",
       " '_c23',\n",
       " '_c24',\n",
       " '_c25',\n",
       " '_c26',\n",
       " '_c27',\n",
       " '_c28',\n",
       " '_c29',\n",
       " '_c30',\n",
       " '_c31',\n",
       " '_c32',\n",
       " '_c33',\n",
       " '_c34',\n",
       " '_c35',\n",
       " '_c36',\n",
       " '_c37',\n",
       " '_c38',\n",
       " '_c39',\n",
       " '_c40',\n",
       " '_c41',\n",
       " '_c42',\n",
       " '_c43',\n",
       " '_c44',\n",
       " '_c45',\n",
       " '_c46',\n",
       " '_c47',\n",
       " '_c48',\n",
       " '_c49',\n",
       " '_c50',\n",
       " '_c51',\n",
       " '_c52',\n",
       " '_c53',\n",
       " '_c54',\n",
       " '_c55',\n",
       " '_c56',\n",
       " '_c57',\n",
       " '_c58',\n",
       " '_c59',\n",
       " '_c60',\n",
       " '_c61',\n",
       " '_c62',\n",
       " '_c63',\n",
       " '_c64',\n",
       " '_c65',\n",
       " '_c66',\n",
       " '_c67',\n",
       " '_c68',\n",
       " '_c69',\n",
       " '_c70',\n",
       " '_c71',\n",
       " '_c72',\n",
       " '_c73',\n",
       " '_c74',\n",
       " '_c75',\n",
       " '_c76',\n",
       " '_c77',\n",
       " '_c78',\n",
       " '_c79',\n",
       " '_c80',\n",
       " '_c81',\n",
       " '_c82',\n",
       " '_c83',\n",
       " '_c84',\n",
       " '_c85',\n",
       " '_c86',\n",
       " '_c87',\n",
       " '_c88',\n",
       " '_c89',\n",
       " '_c90',\n",
       " '_c91',\n",
       " '_c92',\n",
       " '_c93',\n",
       " '_c94',\n",
       " '_c95',\n",
       " '_c96',\n",
       " '_c97',\n",
       " '_c98',\n",
       " '_c99',\n",
       " '_c100',\n",
       " '_c101',\n",
       " '_c102',\n",
       " '_c103',\n",
       " '_c104',\n",
       " '_c105',\n",
       " '_c106',\n",
       " '_c107',\n",
       " '_c108',\n",
       " '_c109',\n",
       " '_c110',\n",
       " '_c111',\n",
       " '_c112',\n",
       " '_c113',\n",
       " '_c114',\n",
       " '_c115',\n",
       " '_c116',\n",
       " '_c117',\n",
       " '_c118',\n",
       " '_c119',\n",
       " '_c120',\n",
       " '_c121',\n",
       " '_c122',\n",
       " '_c123',\n",
       " '_c124',\n",
       " '_c125',\n",
       " '_c126',\n",
       " '_c127',\n",
       " '_c128',\n",
       " '_c129',\n",
       " '_c130',\n",
       " '_c131',\n",
       " '_c132',\n",
       " '_c133',\n",
       " '_c134',\n",
       " '_c135',\n",
       " '_c136',\n",
       " '_c137',\n",
       " '_c138',\n",
       " '_c139']"
      ]
     },
     "execution_count": 22,
     "metadata": {},
     "output_type": "execute_result"
    }
   ],
   "source": [
    "# Showing the list of features we just created\n",
    "features_list"
   ]
  },
  {
   "cell_type": "code",
   "execution_count": 23,
   "id": "0540111b-1714-4c2e-95c9-bfe48bac3174",
   "metadata": {},
   "outputs": [
    {
     "data": {
      "text/plain": [
       "[Row(_c0=-0.032245388, _c1=-0.54504988, _c2=-0.82233951, _c3=-1.6050845, _c4=-1.8057748, _c5=-2.0080666, _c6=-2.2339748, _c7=-2.191458, _c8=-2.0580713, _c9=-1.8808487, _c10=-1.5980847, _c11=-1.0734666, _c12=-0.60601763, _c13=-0.40062774, _c14=-0.30974032, _c15=-0.27599315, _c16=-0.16190422, _c17=0.10850521, _c18=0.30977527, _c19=0.41252896, _c20=0.53814803, _c21=0.54247379, _c22=0.42785112, _c23=0.37815942, _c24=0.36188738, _c25=0.37976272, _c26=0.45375055, _c27=0.5483923, _c28=0.67794169, _c29=0.66825595, _c30=0.4131611, _c31=0.22767328, _c32=0.27982432, _c33=0.35898388, _c34=0.40398305, _c35=0.43035215, _c36=0.40867432, _c37=0.42049766, _c38=0.42107193, _c39=0.32161806, _c40=0.22971489, _c41=0.20655718, _c42=0.22594547, _c43=0.34068889, _c44=0.44956444, _c45=0.40496562, _c46=0.30956912, _c47=0.24239092, _c48=0.17865089, _c49=0.18501601, _c50=0.33981574, _c51=0.51298385, _c52=0.47234082, _c53=0.24335581, _c54=0.082250646, _c55=0.041823061, _c56=0.04329214, _c57=0.16040296, _c58=0.26450173, _c59=0.21102713, _c60=0.22029886, _c61=0.31735332, _c62=0.31367233, _c63=0.31088657, _c64=0.38498299, _c65=0.36784817, _c66=0.2984939, _c67=0.31753582, _c68=0.32696731, _c69=0.29884615, _c70=0.3674174, _c71=0.47894802, _c72=0.51140793, _c73=0.49840732, _c74=0.49130584, _c75=0.50073549, _c76=0.49360933, _c77=0.53874692, _c78=0.63148766, _c79=0.57849716, _c80=0.53415701, _c81=0.6395139, _c82=0.67505033, _c83=0.5978203, _c84=0.48834268, _c85=0.39688329, _c86=0.42172264, _c87=0.51001168, _c88=0.55461096, _c89=0.59630145, _c90=0.57140413, _c91=0.45837937, _c92=0.44734872, _c93=0.50965739, _c94=0.53081508, _c95=0.51322441, _c96=0.46546407, _c97=0.49637166, _c98=0.60659122, _c99=0.66603659, _c100=0.62919292, _c101=0.54553078, _c102=0.54543892, _c103=0.60964795, _c104=0.59777943, _c105=0.57261331, _c106=0.60459362, _c107=0.57085274, _c108=0.48861488, _c109=0.48893631, _c110=0.51936437, _c111=0.55129762, _c112=0.61166333, _c113=0.61427183, _c114=0.55032934, _c115=0.48756962, _c116=0.41517402, _c117=0.39897417, _c118=0.53464846, _c119=0.66442392, _c120=0.63454566, _c121=0.56613755, _c122=0.47991327, _c123=0.29107729, _c124=0.10251066, _c125=0.018347409, _c126=0.043036237, _c127=0.038287591, _c128=-0.168029, _c129=-0.44347067, _c130=-0.90642467, _c131=-1.6213757, _c132=-2.3290905, _c133=-3.0498941, _c134=-3.6204134, _c135=-4.2104818, _c136=-4.043785, _c137=-3.0518127, _c138=-2.8068663, _c139=-0.87966639, label=0)]"
      ]
     },
     "execution_count": 23,
     "metadata": {},
     "output_type": "execute_result"
    }
   ],
   "source": [
    "# Using the .take() method to show the first row of the dataframe to illustrate the difference in the .take() and .show() methods\n",
    "df.take(1)"
   ]
  },
  {
   "cell_type": "code",
   "execution_count": 24,
   "id": "388395cd-5d91-407f-85a5-148981041b8a",
   "metadata": {},
   "outputs": [
    {
     "name": "stderr",
     "output_type": "stream",
     "text": [
      "                                                                                \r"
     ]
    },
    {
     "data": {
      "text/plain": [
       "[Row(_c0=-0.032245388, _c1=-0.54504988, _c2=-0.82233951, _c3=-1.6050845, _c4=-1.8057748, _c5=-2.0080666, _c6=-2.2339748, _c7=-2.191458, _c8=-2.0580713, _c9=-1.8808487, _c10=-1.5980847, _c11=-1.0734666, _c12=-0.60601763, _c13=-0.40062774, _c14=-0.30974032, _c15=-0.27599315, _c16=-0.16190422, _c17=0.10850521, _c18=0.30977527, _c19=0.41252896, _c20=0.53814803, _c21=0.54247379, _c22=0.42785112, _c23=0.37815942, _c24=0.36188738, _c25=0.37976272, _c26=0.45375055, _c27=0.5483923, _c28=0.67794169, _c29=0.66825595, _c30=0.4131611, _c31=0.22767328, _c32=0.27982432, _c33=0.35898388, _c34=0.40398305, _c35=0.43035215, _c36=0.40867432, _c37=0.42049766, _c38=0.42107193, _c39=0.32161806, _c40=0.22971489, _c41=0.20655718, _c42=0.22594547, _c43=0.34068889, _c44=0.44956444, _c45=0.40496562, _c46=0.30956912, _c47=0.24239092, _c48=0.17865089, _c49=0.18501601, _c50=0.33981574, _c51=0.51298385, _c52=0.47234082, _c53=0.24335581, _c54=0.082250646, _c55=0.041823061, _c56=0.04329214, _c57=0.16040296, _c58=0.26450173, _c59=0.21102713, _c60=0.22029886, _c61=0.31735332, _c62=0.31367233, _c63=0.31088657, _c64=0.38498299, _c65=0.36784817, _c66=0.2984939, _c67=0.31753582, _c68=0.32696731, _c69=0.29884615, _c70=0.3674174, _c71=0.47894802, _c72=0.51140793, _c73=0.49840732, _c74=0.49130584, _c75=0.50073549, _c76=0.49360933, _c77=0.53874692, _c78=0.63148766, _c79=0.57849716, _c80=0.53415701, _c81=0.6395139, _c82=0.67505033, _c83=0.5978203, _c84=0.48834268, _c85=0.39688329, _c86=0.42172264, _c87=0.51001168, _c88=0.55461096, _c89=0.59630145, _c90=0.57140413, _c91=0.45837937, _c92=0.44734872, _c93=0.50965739, _c94=0.53081508, _c95=0.51322441, _c96=0.46546407, _c97=0.49637166, _c98=0.60659122, _c99=0.66603659, _c100=0.62919292, _c101=0.54553078, _c102=0.54543892, _c103=0.60964795, _c104=0.59777943, _c105=0.57261331, _c106=0.60459362, _c107=0.57085274, _c108=0.48861488, _c109=0.48893631, _c110=0.51936437, _c111=0.55129762, _c112=0.61166333, _c113=0.61427183, _c114=0.55032934, _c115=0.48756962, _c116=0.41517402, _c117=0.39897417, _c118=0.53464846, _c119=0.66442392, _c120=0.63454566, _c121=0.56613755, _c122=0.47991327, _c123=0.29107729, _c124=0.10251066, _c125=0.018347409, _c126=0.043036237, _c127=0.038287591, _c128=-0.168029, _c129=-0.44347067, _c130=-0.90642467, _c131=-1.6213757, _c132=-2.3290905, _c133=-3.0498941, _c134=-3.6204134, _c135=-4.2104818, _c136=-4.043785, _c137=-3.0518127, _c138=-2.8068663, _c139=-0.87966639, label=0, feature_vector=DenseVector([-0.0322, -0.545, -0.8223, -1.6051, -1.8058, -2.0081, -2.234, -2.1915, -2.0581, -1.8808, -1.5981, -1.0735, -0.606, -0.4006, -0.3097, -0.276, -0.1619, 0.1085, 0.3098, 0.4125, 0.5381, 0.5425, 0.4279, 0.3782, 0.3619, 0.3798, 0.4538, 0.5484, 0.6779, 0.6683, 0.4132, 0.2277, 0.2798, 0.359, 0.404, 0.4304, 0.4087, 0.4205, 0.4211, 0.3216, 0.2297, 0.2066, 0.2259, 0.3407, 0.4496, 0.405, 0.3096, 0.2424, 0.1787, 0.185, 0.3398, 0.513, 0.4723, 0.2434, 0.0823, 0.0418, 0.0433, 0.1604, 0.2645, 0.211, 0.2203, 0.3174, 0.3137, 0.3109, 0.385, 0.3678, 0.2985, 0.3175, 0.327, 0.2988, 0.3674, 0.4789, 0.5114, 0.4984, 0.4913, 0.5007, 0.4936, 0.5387, 0.6315, 0.5785, 0.5342, 0.6395, 0.6751, 0.5978, 0.4883, 0.3969, 0.4217, 0.51, 0.5546, 0.5963, 0.5714, 0.4584, 0.4473, 0.5097, 0.5308, 0.5132, 0.4655, 0.4964, 0.6066, 0.666, 0.6292, 0.5455, 0.5454, 0.6096, 0.5978, 0.5726, 0.6046, 0.5709, 0.4886, 0.4889, 0.5194, 0.5513, 0.6117, 0.6143, 0.5503, 0.4876, 0.4152, 0.399, 0.5346, 0.6644, 0.6345, 0.5661, 0.4799, 0.2911, 0.1025, 0.0183, 0.043, 0.0383, -0.168, -0.4435, -0.9064, -1.6214, -2.3291, -3.0499, -3.6204, -4.2105, -4.0438, -3.0518, -2.8069, -0.8797]))]"
      ]
     },
     "execution_count": 24,
     "metadata": {},
     "output_type": "execute_result"
    }
   ],
   "source": [
    "# Importing the vector assembler module from pyspark\n",
    "from pyspark.ml.feature import VectorAssembler\n",
    "\n",
    "# Using the VectorAssembler method to create a vector of features\n",
    "feature_vector_assembler = VectorAssembler(inputCols=features_list,\n",
    "                                           outputCol=\"feature_vector\")\n",
    "\n",
    "# Transforming the vector and mounting it to the dataframe\n",
    "df = feature_vector_assembler.transform(df)\n",
    "\n",
    "# Showing the frist row of the dataframe to illustrate that the feature vector has been added to the dataframe\n",
    "df.take(1)"
   ]
  },
  {
   "cell_type": "code",
   "execution_count": 25,
   "id": "1cdbc377-3555-404d-98d1-f26c88aff342",
   "metadata": {},
   "outputs": [
    {
     "name": "stdout",
     "output_type": "stream",
     "text": [
      "+--------------------+\n",
      "|      feature_vector|\n",
      "+--------------------+\n",
      "|[-0.032245388,-0....|\n",
      "|[-0.003376902,-0....|\n",
      "|[0.19598933,-0.22...|\n",
      "+--------------------+\n",
      "only showing top 3 rows\n",
      "\n"
     ]
    }
   ],
   "source": [
    "# Showing the first three rows of the feature vector column suing the .show() method\n",
    "# By default the method truncates the data within the column\n",
    "df.select(\"feature_vector\").show(3)"
   ]
  },
  {
   "cell_type": "code",
   "execution_count": 26,
   "id": "e9035e3d-3a25-4c09-a132-891ec51a54cd",
   "metadata": {},
   "outputs": [
    {
     "data": {
      "text/plain": [
       "[Row(feature_vector=DenseVector([-0.0322, -0.545, -0.8223, -1.6051, -1.8058, -2.0081, -2.234, -2.1915, -2.0581, -1.8808, -1.5981, -1.0735, -0.606, -0.4006, -0.3097, -0.276, -0.1619, 0.1085, 0.3098, 0.4125, 0.5381, 0.5425, 0.4279, 0.3782, 0.3619, 0.3798, 0.4538, 0.5484, 0.6779, 0.6683, 0.4132, 0.2277, 0.2798, 0.359, 0.404, 0.4304, 0.4087, 0.4205, 0.4211, 0.3216, 0.2297, 0.2066, 0.2259, 0.3407, 0.4496, 0.405, 0.3096, 0.2424, 0.1787, 0.185, 0.3398, 0.513, 0.4723, 0.2434, 0.0823, 0.0418, 0.0433, 0.1604, 0.2645, 0.211, 0.2203, 0.3174, 0.3137, 0.3109, 0.385, 0.3678, 0.2985, 0.3175, 0.327, 0.2988, 0.3674, 0.4789, 0.5114, 0.4984, 0.4913, 0.5007, 0.4936, 0.5387, 0.6315, 0.5785, 0.5342, 0.6395, 0.6751, 0.5978, 0.4883, 0.3969, 0.4217, 0.51, 0.5546, 0.5963, 0.5714, 0.4584, 0.4473, 0.5097, 0.5308, 0.5132, 0.4655, 0.4964, 0.6066, 0.666, 0.6292, 0.5455, 0.5454, 0.6096, 0.5978, 0.5726, 0.6046, 0.5709, 0.4886, 0.4889, 0.5194, 0.5513, 0.6117, 0.6143, 0.5503, 0.4876, 0.4152, 0.399, 0.5346, 0.6644, 0.6345, 0.5661, 0.4799, 0.2911, 0.1025, 0.0183, 0.043, 0.0383, -0.168, -0.4435, -0.9064, -1.6214, -2.3291, -3.0499, -3.6204, -4.2105, -4.0438, -3.0518, -2.8069, -0.8797])),\n",
       " Row(feature_vector=DenseVector([-0.0034, -0.2793, -0.2305, -0.636, -0.8948, -1.0231, -1.2437, -1.4584, -1.6779, -1.7845, -1.7645, -1.6833, -1.4631, -1.1012, -0.653, -0.3147, -0.243, -0.1916, 0.0076, 0.1711, 0.2684, 0.3844, 0.4266, 0.3859, 0.3882, 0.4224, 0.4233, 0.4336, 0.4561, 0.4392, 0.4366, 0.4654, 0.4283, 0.3743, 0.417, 0.4562, 0.4226, 0.406, 0.4088, 0.4282, 0.4654, 0.4448, 0.4215, 0.4842, 0.5432, 0.5206, 0.4708, 0.4393, 0.4238, 0.4259, 0.437, 0.4271, 0.4229, 0.4724, 0.4985, 0.4383, 0.3834, 0.3769, 0.3975, 0.4417, 0.4482, 0.4362, 0.4456, 0.4054, 0.3764, 0.393, 0.345, 0.3202, 0.4145, 0.461, 0.4372, 0.5213, 0.6172, 0.565, 0.5096, 0.511, 0.4737, 0.4925, 0.5974, 0.6185, 0.5662, 0.5661, 0.5698, 0.5436, 0.5646, 0.6038, 0.6362, 0.7042, 0.743, 0.713, 0.681, 0.6606, 0.6427, 0.6494, 0.6116, 0.5308, 0.5777, 0.6631, 0.6205, 0.6204, 0.6882, 0.6721, 0.6479, 0.6452, 0.6174, 0.6352, 0.6543, 0.5773, 0.5253, 0.5746, 0.5821, 0.5566, 0.5349, 0.4334, 0.3997, 0.4651, 0.4456, 0.4083, 0.3612, 0.2352, 0.1484, 0.0199, -0.2356, -0.395, -0.4231, -0.5265, -0.7422, -1.0011, -1.3114, -1.7089, -2.156, -2.6405, -3.2184, -3.6516, -3.8812, -3.9247, -3.1644, -2.2284, -1.8375, -0.3785]))]"
      ]
     },
     "execution_count": 26,
     "metadata": {},
     "output_type": "execute_result"
    }
   ],
   "source": [
    "# Showing the first two rows of the feature vector column using the .take() method\n",
    "# By default the method expands the column with precission lost only during displaying\n",
    "df.select(\"feature_vector\").take(2)"
   ]
  },
  {
   "cell_type": "code",
   "execution_count": 27,
   "id": "0036aead-97ad-4bdb-bae7-7c4d3204eb72",
   "metadata": {},
   "outputs": [
    {
     "name": "stdout",
     "output_type": "stream",
     "text": [
      "+-------------------------------------------------------------------------------------------------------------------------------------------------------------------------------------------------------------------------------------------------------------------------------------------------------------------------------------------------------------------------------------------------------------------------------------------------------------------------------------------------------------------------------------------------------------------------------------------------------------------------------------------------------------------------------------------------------------------------------------------------------------------------------------------------------------------------------------------------------------------------------------------------------------------------------------------------------------------------------------------------------------------------------------------------------------------------------------------------------------------------------------------------------------------------------------------------------------------------------------------------------------------------------------------------------------------------------------------------------------------------------------------------------------------------------------------------------------------------------------------------------------------------------------------------------------------------------------------------------------+\n",
      "|feature_vector                                                                                                                                                                                                                                                                                                                                                                                                                                                                                                                                                                                                                                                                                                                                                                                                                                                                                                                                                                                                                                                                                                                                                                                                                                                                                                                                                                                                                                                                                                                                                                                               |\n",
      "+-------------------------------------------------------------------------------------------------------------------------------------------------------------------------------------------------------------------------------------------------------------------------------------------------------------------------------------------------------------------------------------------------------------------------------------------------------------------------------------------------------------------------------------------------------------------------------------------------------------------------------------------------------------------------------------------------------------------------------------------------------------------------------------------------------------------------------------------------------------------------------------------------------------------------------------------------------------------------------------------------------------------------------------------------------------------------------------------------------------------------------------------------------------------------------------------------------------------------------------------------------------------------------------------------------------------------------------------------------------------------------------------------------------------------------------------------------------------------------------------------------------------------------------------------------------------------------------------------------------+\n",
      "|[-0.032245388,-0.54504988,-0.82233951,-1.6050845,-1.8057748,-2.0080666,-2.2339748,-2.191458,-2.0580713,-1.8808487,-1.5980847,-1.0734666,-0.60601763,-0.40062774,-0.30974032,-0.27599315,-0.16190422,0.10850521,0.30977527,0.41252896,0.53814803,0.54247379,0.42785112,0.37815942,0.36188738,0.37976272,0.45375055,0.5483923,0.67794169,0.66825595,0.4131611,0.22767328,0.27982432,0.35898388,0.40398305,0.43035215,0.40867432,0.42049766,0.42107193,0.32161806,0.22971489,0.20655718,0.22594547,0.34068889,0.44956444,0.40496562,0.30956912,0.24239092,0.17865089,0.18501601,0.33981574,0.51298385,0.47234082,0.24335581,0.082250646,0.041823061,0.04329214,0.16040296,0.26450173,0.21102713,0.22029886,0.31735332,0.31367233,0.31088657,0.38498299,0.36784817,0.2984939,0.31753582,0.32696731,0.29884615,0.3674174,0.47894802,0.51140793,0.49840732,0.49130584,0.50073549,0.49360933,0.53874692,0.63148766,0.57849716,0.53415701,0.6395139,0.67505033,0.5978203,0.48834268,0.39688329,0.42172264,0.51001168,0.55461096,0.59630145,0.57140413,0.45837937,0.44734872,0.50965739,0.53081508,0.51322441,0.46546407,0.49637166,0.60659122,0.66603659,0.62919292,0.54553078,0.54543892,0.60964795,0.59777943,0.57261331,0.60459362,0.57085274,0.48861488,0.48893631,0.51936437,0.55129762,0.61166333,0.61427183,0.55032934,0.48756962,0.41517402,0.39897417,0.53464846,0.66442392,0.63454566,0.56613755,0.47991327,0.29107729,0.10251066,0.018347409,0.043036237,0.038287591,-0.168029,-0.44347067,-0.90642467,-1.6213757,-2.3290905,-3.0498941,-3.6204134,-4.2104818,-4.043785,-3.0518127,-2.8068663,-0.87966639]|\n",
      "+-------------------------------------------------------------------------------------------------------------------------------------------------------------------------------------------------------------------------------------------------------------------------------------------------------------------------------------------------------------------------------------------------------------------------------------------------------------------------------------------------------------------------------------------------------------------------------------------------------------------------------------------------------------------------------------------------------------------------------------------------------------------------------------------------------------------------------------------------------------------------------------------------------------------------------------------------------------------------------------------------------------------------------------------------------------------------------------------------------------------------------------------------------------------------------------------------------------------------------------------------------------------------------------------------------------------------------------------------------------------------------------------------------------------------------------------------------------------------------------------------------------------------------------------------------------------------------------------------------------+\n",
      "only showing top 1 row\n",
      "\n"
     ]
    }
   ],
   "source": [
    "# Showing first row of the feature vector with .show() method turning off truncate so you can see the precision is saved\n",
    "df.select(\"feature_vector\").show(1, truncate=False)"
   ]
  },
  {
   "cell_type": "code",
   "execution_count": 28,
   "id": "34142b50-8d7d-4d79-b62f-6fbb43d79dcf",
   "metadata": {},
   "outputs": [
    {
     "name": "stderr",
     "output_type": "stream",
     "text": [
      "                                                                                \r"
     ]
    },
    {
     "data": {
      "text/plain": [
       "[Row(_c0=-0.032245388, _c1=-0.54504988, _c2=-0.82233951, _c3=-1.6050845, _c4=-1.8057748, _c5=-2.0080666, _c6=-2.2339748, _c7=-2.191458, _c8=-2.0580713, _c9=-1.8808487, _c10=-1.5980847, _c11=-1.0734666, _c12=-0.60601763, _c13=-0.40062774, _c14=-0.30974032, _c15=-0.27599315, _c16=-0.16190422, _c17=0.10850521, _c18=0.30977527, _c19=0.41252896, _c20=0.53814803, _c21=0.54247379, _c22=0.42785112, _c23=0.37815942, _c24=0.36188738, _c25=0.37976272, _c26=0.45375055, _c27=0.5483923, _c28=0.67794169, _c29=0.66825595, _c30=0.4131611, _c31=0.22767328, _c32=0.27982432, _c33=0.35898388, _c34=0.40398305, _c35=0.43035215, _c36=0.40867432, _c37=0.42049766, _c38=0.42107193, _c39=0.32161806, _c40=0.22971489, _c41=0.20655718, _c42=0.22594547, _c43=0.34068889, _c44=0.44956444, _c45=0.40496562, _c46=0.30956912, _c47=0.24239092, _c48=0.17865089, _c49=0.18501601, _c50=0.33981574, _c51=0.51298385, _c52=0.47234082, _c53=0.24335581, _c54=0.082250646, _c55=0.041823061, _c56=0.04329214, _c57=0.16040296, _c58=0.26450173, _c59=0.21102713, _c60=0.22029886, _c61=0.31735332, _c62=0.31367233, _c63=0.31088657, _c64=0.38498299, _c65=0.36784817, _c66=0.2984939, _c67=0.31753582, _c68=0.32696731, _c69=0.29884615, _c70=0.3674174, _c71=0.47894802, _c72=0.51140793, _c73=0.49840732, _c74=0.49130584, _c75=0.50073549, _c76=0.49360933, _c77=0.53874692, _c78=0.63148766, _c79=0.57849716, _c80=0.53415701, _c81=0.6395139, _c82=0.67505033, _c83=0.5978203, _c84=0.48834268, _c85=0.39688329, _c86=0.42172264, _c87=0.51001168, _c88=0.55461096, _c89=0.59630145, _c90=0.57140413, _c91=0.45837937, _c92=0.44734872, _c93=0.50965739, _c94=0.53081508, _c95=0.51322441, _c96=0.46546407, _c97=0.49637166, _c98=0.60659122, _c99=0.66603659, _c100=0.62919292, _c101=0.54553078, _c102=0.54543892, _c103=0.60964795, _c104=0.59777943, _c105=0.57261331, _c106=0.60459362, _c107=0.57085274, _c108=0.48861488, _c109=0.48893631, _c110=0.51936437, _c111=0.55129762, _c112=0.61166333, _c113=0.61427183, _c114=0.55032934, _c115=0.48756962, _c116=0.41517402, _c117=0.39897417, _c118=0.53464846, _c119=0.66442392, _c120=0.63454566, _c121=0.56613755, _c122=0.47991327, _c123=0.29107729, _c124=0.10251066, _c125=0.018347409, _c126=0.043036237, _c127=0.038287591, _c128=-0.168029, _c129=-0.44347067, _c130=-0.90642467, _c131=-1.6213757, _c132=-2.3290905, _c133=-3.0498941, _c134=-3.6204134, _c135=-4.2104818, _c136=-4.043785, _c137=-3.0518127, _c138=-2.8068663, _c139=-0.87966639, label=0, feature_vector=DenseVector([-0.0322, -0.545, -0.8223, -1.6051, -1.8058, -2.0081, -2.234, -2.1915, -2.0581, -1.8808, -1.5981, -1.0735, -0.606, -0.4006, -0.3097, -0.276, -0.1619, 0.1085, 0.3098, 0.4125, 0.5381, 0.5425, 0.4279, 0.3782, 0.3619, 0.3798, 0.4538, 0.5484, 0.6779, 0.6683, 0.4132, 0.2277, 0.2798, 0.359, 0.404, 0.4304, 0.4087, 0.4205, 0.4211, 0.3216, 0.2297, 0.2066, 0.2259, 0.3407, 0.4496, 0.405, 0.3096, 0.2424, 0.1787, 0.185, 0.3398, 0.513, 0.4723, 0.2434, 0.0823, 0.0418, 0.0433, 0.1604, 0.2645, 0.211, 0.2203, 0.3174, 0.3137, 0.3109, 0.385, 0.3678, 0.2985, 0.3175, 0.327, 0.2988, 0.3674, 0.4789, 0.5114, 0.4984, 0.4913, 0.5007, 0.4936, 0.5387, 0.6315, 0.5785, 0.5342, 0.6395, 0.6751, 0.5978, 0.4883, 0.3969, 0.4217, 0.51, 0.5546, 0.5963, 0.5714, 0.4584, 0.4473, 0.5097, 0.5308, 0.5132, 0.4655, 0.4964, 0.6066, 0.666, 0.6292, 0.5455, 0.5454, 0.6096, 0.5978, 0.5726, 0.6046, 0.5709, 0.4886, 0.4889, 0.5194, 0.5513, 0.6117, 0.6143, 0.5503, 0.4876, 0.4152, 0.399, 0.5346, 0.6644, 0.6345, 0.5661, 0.4799, 0.2911, 0.1025, 0.0183, 0.043, 0.0383, -0.168, -0.4435, -0.9064, -1.6214, -2.3291, -3.0499, -3.6204, -4.2105, -4.0438, -3.0518, -2.8069, -0.8797]), scaled_feature_vector=DenseVector([0.177, 0.6957, 1.0789, 1.0121, 1.0779, 0.8498, 0.0493, -0.5551, -0.9178, -1.3186, -1.5712, -1.1888, -0.5685, -0.3375, -0.3397, -0.4475, -0.2973, 0.2779, 0.7271, 0.9605, 1.2519, 1.2629, 1.009, 0.9159, 0.8961, 0.9385, 1.1015, 1.315, 1.5799, 1.5609, 1.0779, 0.7467, 0.8674, 1.0251, 1.1187, 1.1809, 1.1602, 1.2031, 1.2172, 1.0461, 0.8678, 0.8066, 0.8402, 1.1139, 1.3997, 1.3026, 1.0258, 0.7975, 0.5494, 0.5422, 1.0969, 1.7712, 1.6277, 0.7384, 0.0887, -0.1045, -0.1238, 0.343, 0.7341, 0.4682, 0.4607, 0.8048, 0.7208, 0.6423, 0.8645, 0.7094, 0.3265, 0.2918, 0.2066, -0.0215, 0.1479, 0.4882, 0.5238, 0.3853, 0.2878, 0.2637, 0.192, 0.3527, 0.7299, 0.4939, 0.2972, 0.778, 0.9405, 0.5897, 0.096, -0.2969, -0.1755, 0.2058, 0.3935, 0.5747, 0.4615, -0.002, -0.0748, 0.1025, 0.0829, -0.1076, -0.4115, -0.4572, -0.3134, -0.3242, -0.5405, -0.7975, -0.8656, -0.8145, -0.8733, -0.9393, -0.8748, -0.8738, -0.9227, -0.7518, -0.4286, -0.0805, 0.2683, 0.4359, 0.4365, 0.419, 0.3593, 0.3661, 0.618, 0.8441, 0.8092, 0.7237, 0.6167, 0.3534, 0.0931, -0.0095, 0.0462, 0.0675, -0.1928, -0.4792, -0.7607, -1.0405, -1.2008, -1.2884, -1.3396, -1.4835, -1.3944, -1.144, -1.1189, -0.0977]))]"
      ]
     },
     "execution_count": 28,
     "metadata": {},
     "output_type": "execute_result"
    }
   ],
   "source": [
    "# Standardizing the data\n",
    "from pyspark.ml.feature import StandardScaler\n",
    "\n",
    "# Creating a scalar with the input column being the feature vector and naming the output column\n",
    "# and choosing the options of using the standard deviation and mean to normalize the data\n",
    "scaler = StandardScaler(inputCol=\"feature_vector\",\n",
    "                        outputCol=\"scaled_feature_vector\",\n",
    "                        withStd=True, withMean=True)\n",
    "\n",
    "# Fitting the data to the scalar\n",
    "scaler = scaler.fit(df)\n",
    "\n",
    "# Transforming and mounting the scaled data to the dataframe\n",
    "df = scaler.transform(df)\n",
    "\n",
    "# Showing the frist row of the dataframe to illustrate that the scale feature vector has been added to the dataframe\n",
    "df.take(1)"
   ]
  },
  {
   "cell_type": "code",
   "execution_count": 29,
   "id": "e191d740-c464-4574-a28f-64b94a7e1c5d",
   "metadata": {},
   "outputs": [
    {
     "name": "stdout",
     "output_type": "stream",
     "text": [
      "+---------------------+\n",
      "|scaled_feature_vector|\n",
      "+---------------------+\n",
      "| [0.17704348342429...|\n",
      "| [0.20291272241540...|\n",
      "| [0.38156610598271...|\n",
      "+---------------------+\n",
      "only showing top 3 rows\n",
      "\n"
     ]
    }
   ],
   "source": [
    "# Showing the first three rows of the scaled feature vector column suing the .show() method\n",
    "# By default the method truncates the data within the column\n",
    "df.select(\"scaled_feature_vector\").show(3)"
   ]
  },
  {
   "cell_type": "code",
   "execution_count": 30,
   "id": "4082480e-5724-4953-8e10-c01392ce0393",
   "metadata": {},
   "outputs": [
    {
     "data": {
      "text/plain": [
       "[Row(scaled_feature_vector=DenseVector([0.177, 0.6957, 1.0789, 1.0121, 1.0779, 0.8498, 0.0493, -0.5551, -0.9178, -1.3186, -1.5712, -1.1888, -0.5685, -0.3375, -0.3397, -0.4475, -0.2973, 0.2779, 0.7271, 0.9605, 1.2519, 1.2629, 1.009, 0.9159, 0.8961, 0.9385, 1.1015, 1.315, 1.5799, 1.5609, 1.0779, 0.7467, 0.8674, 1.0251, 1.1187, 1.1809, 1.1602, 1.2031, 1.2172, 1.0461, 0.8678, 0.8066, 0.8402, 1.1139, 1.3997, 1.3026, 1.0258, 0.7975, 0.5494, 0.5422, 1.0969, 1.7712, 1.6277, 0.7384, 0.0887, -0.1045, -0.1238, 0.343, 0.7341, 0.4682, 0.4607, 0.8048, 0.7208, 0.6423, 0.8645, 0.7094, 0.3265, 0.2918, 0.2066, -0.0215, 0.1479, 0.4882, 0.5238, 0.3853, 0.2878, 0.2637, 0.192, 0.3527, 0.7299, 0.4939, 0.2972, 0.778, 0.9405, 0.5897, 0.096, -0.2969, -0.1755, 0.2058, 0.3935, 0.5747, 0.4615, -0.002, -0.0748, 0.1025, 0.0829, -0.1076, -0.4115, -0.4572, -0.3134, -0.3242, -0.5405, -0.7975, -0.8656, -0.8145, -0.8733, -0.9393, -0.8748, -0.8738, -0.9227, -0.7518, -0.4286, -0.0805, 0.2683, 0.4359, 0.4365, 0.419, 0.3593, 0.3661, 0.618, 0.8441, 0.8092, 0.7237, 0.6167, 0.3534, 0.0931, -0.0095, 0.0462, 0.0675, -0.1928, -0.4792, -0.7607, -1.0405, -1.2008, -1.2884, -1.3396, -1.4835, -1.3944, -1.144, -1.1189, -0.0977])),\n",
       " Row(scaled_feature_vector=DenseVector([0.2029, 0.8829, 1.5019, 1.7398, 1.8813, 1.9221, 1.3883, 0.5777, -0.3389, -1.1755, -1.8454, -2.401, -2.5538, -2.1001, -1.23, -0.5476, -0.5003, -0.4475, 0.0124, 0.3989, 0.6316, 0.9047, 1.0061, 0.9331, 0.9532, 1.0287, 1.0385, 1.0815, 1.1394, 1.1174, 1.122, 1.1834, 1.1354, 1.0524, 1.1416, 1.2263, 1.1849, 1.1769, 1.1945, 1.2506, 1.3397, 1.3083, 1.2824, 1.4659, 1.6483, 1.6372, 1.5297, 1.4564, 1.4108, 1.4158, 1.4573, 1.4418, 1.4344, 1.6572, 1.7972, 1.5423, 1.2962, 1.2543, 1.2892, 1.4303, 1.4002, 1.2887, 1.2528, 1.0288, 0.8294, 0.8126, 0.5187, 0.3028, 0.5663, 0.6408, 0.429, 0.6588, 0.9521, 0.6537, 0.3629, 0.3066, 0.1081, 0.1571, 0.5808, 0.6752, 0.4457, 0.4387, 0.458, 0.3433, 0.4354, 0.5949, 0.7295, 1.0134, 1.1662, 1.0513, 0.8974, 0.7776, 0.6528, 0.603, 0.3628, -0.0497, -0.0696, 0.0024, -0.2783, -0.4267, -0.4233, -0.5715, -0.6956, -0.7566, -0.8407, -0.8312, -0.7845, -0.8616, -0.8486, -0.5696, -0.2941, -0.0697, 0.1242, 0.1118, 0.1728, 0.3802, 0.4107, 0.3817, 0.3295, 0.1418, 0.0265, -0.1414, -0.4931, -0.6847, -0.6788, -0.7845, -1.0452, -1.3459, -1.6347, -1.8027, -1.7948, -1.7428, -1.7247, -1.5972, -1.4632, -1.3496, -0.9766, -0.7119, -0.6053, 0.2494]))]"
      ]
     },
     "execution_count": 30,
     "metadata": {},
     "output_type": "execute_result"
    }
   ],
   "source": [
    "# Showing the first two rows of the scaled feature vector column using the .take() method\n",
    "# By default the method expands the column with precission lost only during displaying\n",
    "df.select(\"scaled_feature_vector\").take(2)"
   ]
  },
  {
   "cell_type": "code",
   "execution_count": 31,
   "id": "90479413-380c-4e18-9c7b-2538b67d8b8f",
   "metadata": {},
   "outputs": [
    {
     "name": "stdout",
     "output_type": "stream",
     "text": [
      "+------------------------------------------------------------------------------------------------------------------------------------------------------------------------------------------------------------------------------------------------------------------------------------------------------------------------------------------------------------------------------------------------------------------------------------------------------------------------------------------------------------------------------------------------------------------------------------------------------------------------------------------------------------------------------------------------------------------------------------------------------------------------------------------------------------------------------------------------------------------------------------------------------------------------------------------------------------------------------------------------------------------------------------------------------------------------------------------------------------------------------------------------------------------------------------------------------------------------------------------------------------------------------------------------------------------------------------------------------------------------------------------------------------------------------------------------------------------------------------------------------------------------------------------------------------------------------------------------------------------------------------------------------------------------------------------------------------------------------------------------------------------------------------------------------------------------------------------------------------------------------------------------------------------------------------------------------------------------------------------------------------------------------------------------------------------------------------------------------------------------------------------------------------------------------------------------------------------------------------------------------------------------------------------------------------------------------------------------------------------------------------------------------------------------------------------------------------------------------------------------------------------------------------------------------------------------------------------------------------------------------------------------------------------------------------------------------------------------------------------------------------------------------------------------------------------------------------------+\n",
      "|scaled_feature_vector                                                                                                                                                                                                                                                                                                                                                                                                                                                                                                                                                                                                                                                                                                                                                                                                                                                                                                                                                                                                                                                                                                                                                                                                                                                                                                                                                                                                                                                                                                                                                                                                                                                                                                                                                                                                                                                                                                                                                                                                                                                                                                                                                                                                                                                                                                                                                                                                                                                                                                                                                                                                                                                                                                                                                                                                                     |\n",
      "+------------------------------------------------------------------------------------------------------------------------------------------------------------------------------------------------------------------------------------------------------------------------------------------------------------------------------------------------------------------------------------------------------------------------------------------------------------------------------------------------------------------------------------------------------------------------------------------------------------------------------------------------------------------------------------------------------------------------------------------------------------------------------------------------------------------------------------------------------------------------------------------------------------------------------------------------------------------------------------------------------------------------------------------------------------------------------------------------------------------------------------------------------------------------------------------------------------------------------------------------------------------------------------------------------------------------------------------------------------------------------------------------------------------------------------------------------------------------------------------------------------------------------------------------------------------------------------------------------------------------------------------------------------------------------------------------------------------------------------------------------------------------------------------------------------------------------------------------------------------------------------------------------------------------------------------------------------------------------------------------------------------------------------------------------------------------------------------------------------------------------------------------------------------------------------------------------------------------------------------------------------------------------------------------------------------------------------------------------------------------------------------------------------------------------------------------------------------------------------------------------------------------------------------------------------------------------------------------------------------------------------------------------------------------------------------------------------------------------------------------------------------------------------------------------------------------------------------+\n",
      "|[0.17704348342429316,0.6956519582807159,1.0789257870215128,1.0121485426922339,1.0779257153411645,0.8497999030951058,0.049273714500274186,-0.5550633921087883,-0.9178168421557589,-1.3185816885953452,-1.5711564706278756,-1.1887977654997095,-0.5685186101369596,-0.3375164778277159,-0.33971154579620466,-0.44746780277328585,-0.2973143535868954,0.2778879065837785,0.727060979680731,0.960545616821673,1.2518894346440446,1.2628940049015873,1.0089913583591588,0.9159362611639225,0.8960813314076315,0.9384889350356901,1.1014520624001922,1.315040927886051,1.5798591378541007,1.5608946468591838,1.0779084713407825,0.7466659641980306,0.8673934548984199,1.0251090670634155,1.1186770593454838,1.1809029894495886,1.160210140870265,1.2030632667816803,1.2172146043121446,1.0461234895479148,0.867815137695063,0.806595972820286,0.8401511012354701,1.113874953912809,1.3996942472631682,1.3026081273262984,1.0258412341878484,0.797539753015105,0.5494113020849175,0.5422012547207535,1.0969024126305567,1.7711892054785736,1.6276703316253847,0.7383635794323392,0.08868571947787182,-0.10451948012871012,-0.12384413384634774,0.3429649615528884,0.7341197510405417,0.46821802364275017,0.4607262675630461,0.8048365090320806,0.7207984163114863,0.6423439640860538,0.8644555198999779,0.709376872669779,0.32650464006300145,0.2917881841229742,0.20661308285088742,-0.02151531387037088,0.14789930269624885,0.48817000634282826,0.5238398871201431,0.38528334202688724,0.28784735786945387,0.2637461738341811,0.19203888057986845,0.352733907814008,0.7298884836297391,0.49386015023663565,0.29716599861643955,0.7780209553834492,0.940478124227588,0.589652995521621,0.09603990444340088,-0.2968556841152066,-0.17552395167967394,0.20582205949006407,0.39350556794668856,0.5747428467883636,0.4615436807122996,-0.002037007154004732,-0.07476765921955245,0.10253991654417767,0.08287643090317781,-0.10755930187964596,-0.4114876866667296,-0.45722519747854506,-0.31336024350137337,-0.32424725515187547,-0.5404838188427608,-0.797463554420692,-0.8655669397144637,-0.8145221906866025,-0.8732543900137918,-0.939328856087576,-0.8748320125208016,-0.873822790135581,-0.9226573809397379,-0.7518037298897935,-0.42857205897724926,-0.08045307676656992,0.26831412856148,0.4359186806521617,0.4365206522171527,0.4189910805959003,0.3592783093935494,0.3661232799978668,0.6179510384924009,0.8440520986062556,0.8091565422493298,0.7236885063609229,0.6167301770882947,0.35338951848364475,0.09310499406564768,-0.009544862878836866,0.04616881280613306,0.06754240194444319,-0.1928218492385234,-0.4792077121707092,-0.7606882970350711,-1.040507215145175,-1.2008029570150063,-1.2883886862998246,-1.3396154116639525,-1.4834501275458492,-1.3944375746552344,-1.1440018844871027,-1.1189192063109963,-0.0977426864912674]|\n",
      "+------------------------------------------------------------------------------------------------------------------------------------------------------------------------------------------------------------------------------------------------------------------------------------------------------------------------------------------------------------------------------------------------------------------------------------------------------------------------------------------------------------------------------------------------------------------------------------------------------------------------------------------------------------------------------------------------------------------------------------------------------------------------------------------------------------------------------------------------------------------------------------------------------------------------------------------------------------------------------------------------------------------------------------------------------------------------------------------------------------------------------------------------------------------------------------------------------------------------------------------------------------------------------------------------------------------------------------------------------------------------------------------------------------------------------------------------------------------------------------------------------------------------------------------------------------------------------------------------------------------------------------------------------------------------------------------------------------------------------------------------------------------------------------------------------------------------------------------------------------------------------------------------------------------------------------------------------------------------------------------------------------------------------------------------------------------------------------------------------------------------------------------------------------------------------------------------------------------------------------------------------------------------------------------------------------------------------------------------------------------------------------------------------------------------------------------------------------------------------------------------------------------------------------------------------------------------------------------------------------------------------------------------------------------------------------------------------------------------------------------------------------------------------------------------------------------------------------------+\n",
      "only showing top 1 row\n",
      "\n"
     ]
    }
   ],
   "source": [
    "# Showing first row of the feature vector with .show() method turning off truncate so you can see the precision is saved\n",
    "df.select(\"scaled_feature_vector\").show(1, truncate=False)"
   ]
  },
  {
   "cell_type": "code",
   "execution_count": 32,
   "id": "eb838111-1132-4383-92fd-b01ac4722ee3",
   "metadata": {},
   "outputs": [
    {
     "name": "stdout",
     "output_type": "stream",
     "text": [
      "+------------------------------------------------------------------------------------------------------------------------------------------------------------------------------------------------------------------------------------------------------------------------------------------------------------------------------------------------------------------------------------------------------------------------------------------------------------------------------------------------------------------------------------------------------------------------------------------------------------------------------------------------------------------------------------------------------------------------------------------------------------------------------------------------------------------------------------------------------------------------------------------------------------------------------------------------------------------------------------------------------------------------------------------------------------------------------------------------------------------------------------------------------------------------------------------------------------------------------------------------------------------------------------------------------------------------------------------------------------------------------------------------------------------------------------------------------------------------------------------------------------------------------------------------------------------------------------------------------------------------------------------------------------------------------------------------------------------------------------------------------------------------------------------------------------------------------------------------------------------------------------------------------------------------------------------------------------------------------------------------------------------------------------------------------------------------------------------------------------------------------------------------------------------------------------------------------------------------------------------------------------------------------------------------------------------------------------------------------------------------------------------------------------------------------------------------------------------------------------------------------------------------------------------------------------------------------------------------------------------------------------------------------------------------------------------------------------------------------------------------------------------------------------------------------------------------------------------+-----+\n",
      "|scaled_feature_vector                                                                                                                                                                                                                                                                                                                                                                                                                                                                                                                                                                                                                                                                                                                                                                                                                                                                                                                                                                                                                                                                                                                                                                                                                                                                                                                                                                                                                                                                                                                                                                                                                                                                                                                                                                                                                                                                                                                                                                                                                                                                                                                                                                                                                                                                                                                                                                                                                                                                                                                                                                                                                                                                                                                                                                                                                     |label|\n",
      "+------------------------------------------------------------------------------------------------------------------------------------------------------------------------------------------------------------------------------------------------------------------------------------------------------------------------------------------------------------------------------------------------------------------------------------------------------------------------------------------------------------------------------------------------------------------------------------------------------------------------------------------------------------------------------------------------------------------------------------------------------------------------------------------------------------------------------------------------------------------------------------------------------------------------------------------------------------------------------------------------------------------------------------------------------------------------------------------------------------------------------------------------------------------------------------------------------------------------------------------------------------------------------------------------------------------------------------------------------------------------------------------------------------------------------------------------------------------------------------------------------------------------------------------------------------------------------------------------------------------------------------------------------------------------------------------------------------------------------------------------------------------------------------------------------------------------------------------------------------------------------------------------------------------------------------------------------------------------------------------------------------------------------------------------------------------------------------------------------------------------------------------------------------------------------------------------------------------------------------------------------------------------------------------------------------------------------------------------------------------------------------------------------------------------------------------------------------------------------------------------------------------------------------------------------------------------------------------------------------------------------------------------------------------------------------------------------------------------------------------------------------------------------------------------------------------------------------------+-----+\n",
      "|[0.17704348342429316,0.6956519582807159,1.0789257870215128,1.0121485426922339,1.0779257153411645,0.8497999030951058,0.049273714500274186,-0.5550633921087883,-0.9178168421557589,-1.3185816885953452,-1.5711564706278756,-1.1887977654997095,-0.5685186101369596,-0.3375164778277159,-0.33971154579620466,-0.44746780277328585,-0.2973143535868954,0.2778879065837785,0.727060979680731,0.960545616821673,1.2518894346440446,1.2628940049015873,1.0089913583591588,0.9159362611639225,0.8960813314076315,0.9384889350356901,1.1014520624001922,1.315040927886051,1.5798591378541007,1.5608946468591838,1.0779084713407825,0.7466659641980306,0.8673934548984199,1.0251090670634155,1.1186770593454838,1.1809029894495886,1.160210140870265,1.2030632667816803,1.2172146043121446,1.0461234895479148,0.867815137695063,0.806595972820286,0.8401511012354701,1.113874953912809,1.3996942472631682,1.3026081273262984,1.0258412341878484,0.797539753015105,0.5494113020849175,0.5422012547207535,1.0969024126305567,1.7711892054785736,1.6276703316253847,0.7383635794323392,0.08868571947787182,-0.10451948012871012,-0.12384413384634774,0.3429649615528884,0.7341197510405417,0.46821802364275017,0.4607262675630461,0.8048365090320806,0.7207984163114863,0.6423439640860538,0.8644555198999779,0.709376872669779,0.32650464006300145,0.2917881841229742,0.20661308285088742,-0.02151531387037088,0.14789930269624885,0.48817000634282826,0.5238398871201431,0.38528334202688724,0.28784735786945387,0.2637461738341811,0.19203888057986845,0.352733907814008,0.7298884836297391,0.49386015023663565,0.29716599861643955,0.7780209553834492,0.940478124227588,0.589652995521621,0.09603990444340088,-0.2968556841152066,-0.17552395167967394,0.20582205949006407,0.39350556794668856,0.5747428467883636,0.4615436807122996,-0.002037007154004732,-0.07476765921955245,0.10253991654417767,0.08287643090317781,-0.10755930187964596,-0.4114876866667296,-0.45722519747854506,-0.31336024350137337,-0.32424725515187547,-0.5404838188427608,-0.797463554420692,-0.8655669397144637,-0.8145221906866025,-0.8732543900137918,-0.939328856087576,-0.8748320125208016,-0.873822790135581,-0.9226573809397379,-0.7518037298897935,-0.42857205897724926,-0.08045307676656992,0.26831412856148,0.4359186806521617,0.4365206522171527,0.4189910805959003,0.3592783093935494,0.3661232799978668,0.6179510384924009,0.8440520986062556,0.8091565422493298,0.7236885063609229,0.6167301770882947,0.35338951848364475,0.09310499406564768,-0.009544862878836866,0.04616881280613306,0.06754240194444319,-0.1928218492385234,-0.4792077121707092,-0.7606882970350711,-1.040507215145175,-1.2008029570150063,-1.2883886862998246,-1.3396154116639525,-1.4834501275458492,-1.3944375746552344,-1.1440018844871027,-1.1189192063109963,-0.0977426864912674]|0    |\n",
      "+------------------------------------------------------------------------------------------------------------------------------------------------------------------------------------------------------------------------------------------------------------------------------------------------------------------------------------------------------------------------------------------------------------------------------------------------------------------------------------------------------------------------------------------------------------------------------------------------------------------------------------------------------------------------------------------------------------------------------------------------------------------------------------------------------------------------------------------------------------------------------------------------------------------------------------------------------------------------------------------------------------------------------------------------------------------------------------------------------------------------------------------------------------------------------------------------------------------------------------------------------------------------------------------------------------------------------------------------------------------------------------------------------------------------------------------------------------------------------------------------------------------------------------------------------------------------------------------------------------------------------------------------------------------------------------------------------------------------------------------------------------------------------------------------------------------------------------------------------------------------------------------------------------------------------------------------------------------------------------------------------------------------------------------------------------------------------------------------------------------------------------------------------------------------------------------------------------------------------------------------------------------------------------------------------------------------------------------------------------------------------------------------------------------------------------------------------------------------------------------------------------------------------------------------------------------------------------------------------------------------------------------------------------------------------------------------------------------------------------------------------------------------------------------------------------------------------------------+-----+\n",
      "only showing top 1 row\n",
      "\n"
     ]
    }
   ],
   "source": [
    "# Showing what the final df should look like with the .show() method and truncation turned off\n",
    "df.select(\"scaled_feature_vector\",\"label\").show(1, truncate=False)"
   ]
  },
  {
   "cell_type": "code",
   "execution_count": 33,
   "id": "4e6a00b7-3031-43e3-98cd-c3b4e3bfc25a",
   "metadata": {},
   "outputs": [
    {
     "name": "stdout",
     "output_type": "stream",
     "text": [
      "+---------------------+-----+\n",
      "|scaled_feature_vector|label|\n",
      "+---------------------+-----+\n",
      "| [0.17704348342429...|    0|\n",
      "| [0.20291272241540...|    0|\n",
      "| [0.38156610598271...|    0|\n",
      "+---------------------+-----+\n",
      "only showing top 3 rows\n",
      "\n"
     ]
    }
   ],
   "source": [
    "# creating a dataframe for the model to fit to\n",
    "model_df = df.select(\"scaled_feature_vector\",\"label\")\n",
    "model_df.show(3)"
   ]
  },
  {
   "cell_type": "code",
   "execution_count": 34,
   "id": "a1168a89-c50f-4fd9-97c6-587d7ca54f86",
   "metadata": {},
   "outputs": [],
   "source": [
    "# Splitting the data into training, test, and validation dataframes using a the randomSplit method with a seed to standardize the output sizes across multiple runs of the file\n",
    "training_df, test_df, validation_df = model_df.randomSplit([0.7, 0.2, 0.1], seed=22)"
   ]
  },
  {
   "cell_type": "code",
   "execution_count": 35,
   "id": "f253d6c8-f481-4d30-af30-1682c6b5f171",
   "metadata": {},
   "outputs": [
    {
     "data": {
      "text/plain": [
       "2886"
      ]
     },
     "execution_count": 35,
     "metadata": {},
     "output_type": "execute_result"
    }
   ],
   "source": [
    "# Showing the number of rows in the dataframe\n",
    "training_df.count()"
   ]
  },
  {
   "cell_type": "code",
   "execution_count": 36,
   "id": "87d824c9-22d5-4487-942e-ea38462bd384",
   "metadata": {},
   "outputs": [
    {
     "data": {
      "text/plain": [
       "826"
      ]
     },
     "execution_count": 36,
     "metadata": {},
     "output_type": "execute_result"
    }
   ],
   "source": [
    "# Showing the number of rows in the dataframe\n",
    "test_df.count()"
   ]
  },
  {
   "cell_type": "code",
   "execution_count": 37,
   "id": "64f3b206-d293-43de-b651-2477e8a61d2c",
   "metadata": {},
   "outputs": [
    {
     "data": {
      "text/plain": [
       "442"
      ]
     },
     "execution_count": 37,
     "metadata": {},
     "output_type": "execute_result"
    }
   ],
   "source": [
    "# Showing the number of rows in the dataframe\n",
    "validation_df.count()"
   ]
  },
  {
   "cell_type": "code",
   "execution_count": 38,
   "id": "327f43a6-70a7-4d4e-82bf-b0801d80b4b2",
   "metadata": {},
   "outputs": [
    {
     "data": {
      "text/plain": [
       "4154"
      ]
     },
     "execution_count": 38,
     "metadata": {},
     "output_type": "execute_result"
    }
   ],
   "source": [
    "# Showing the total rows across the split dataframes\n",
    "training_df.count() + test_df.count() + validation_df.count()"
   ]
  },
  {
   "cell_type": "code",
   "execution_count": 39,
   "id": "43b686b8-2e03-4553-9830-d6ff9a622604",
   "metadata": {},
   "outputs": [
    {
     "data": {
      "text/plain": [
       "4154"
      ]
     },
     "execution_count": 39,
     "metadata": {},
     "output_type": "execute_result"
    }
   ],
   "source": [
    "# Showing the total rows across the processed dataframe\n",
    "df.count()"
   ]
  },
  {
   "cell_type": "code",
   "execution_count": 40,
   "id": "c010c82b-beac-4ae3-981f-02c34d6f120b",
   "metadata": {},
   "outputs": [
    {
     "data": {
      "text/plain": [
       "True"
      ]
     },
     "execution_count": 40,
     "metadata": {},
     "output_type": "execute_result"
    }
   ],
   "source": [
    "# Showing the total rows across the split dataframes addes up to the original number of rows in the processed dataframe\n",
    "training_df.count() + test_df.count() + validation_df.count() == df.count()"
   ]
  },
  {
   "cell_type": "code",
   "execution_count": 41,
   "id": "3fb593d0-11ee-4c9a-8ae1-7d8055fa9250",
   "metadata": {},
   "outputs": [],
   "source": [
    "# Importing the Logistic Regression model from pyspark ml library\n",
    "from pyspark.ml.classification import LogisticRegression\n",
    "\n",
    "# Fitting the model and storing it to a variable\n",
    "log_reg = LogisticRegression(featuresCol=\"scaled_feature_vector\", labelCol=\"label\").fit(training_df)"
   ]
  },
  {
   "cell_type": "code",
   "execution_count": 42,
   "id": "2f5190b9-6a5a-4694-b503-2bae31509d7f",
   "metadata": {},
   "outputs": [
    {
     "data": {
      "text/plain": [
       "LogisticRegressionModel: uid=LogisticRegression_597eda099ead, numClasses=2, numFeatures=140"
      ]
     },
     "execution_count": 42,
     "metadata": {},
     "output_type": "execute_result"
    }
   ],
   "source": [
    "# Showing the model\n",
    "log_reg"
   ]
  },
  {
   "cell_type": "code",
   "execution_count": 43,
   "id": "85b37442-7e69-42b0-8f4e-9e1cfb640962",
   "metadata": {},
   "outputs": [],
   "source": [
    "# Training the model with the training data and storing the predictions in a variable\n",
    "train_results = log_reg.evaluate(training_df).predictions"
   ]
  },
  {
   "cell_type": "code",
   "execution_count": 44,
   "id": "2fd77e51-8e9b-4b70-94cc-1ca09fdd632c",
   "metadata": {},
   "outputs": [
    {
     "name": "stdout",
     "output_type": "stream",
     "text": [
      "+---------------------+-----+--------------------+--------------------+----------+\n",
      "|scaled_feature_vector|label|       rawPrediction|         probability|prediction|\n",
      "+---------------------+-----+--------------------+--------------------+----------+\n",
      "| [-4.4072516237687...|    0|[7.31825341824663...|[0.99933711995920...|       0.0|\n",
      "| [-4.3572698479488...|    0|[21.4274945773605...|[0.99999999950551...|       0.0|\n",
      "| [-4.0190236826299...|    0|[3.69825745056395...|[0.97583191637601...|       0.0|\n",
      "| [-2.8835944220220...|    0|[4.86017347457243...|[0.99231044791589...|       0.0|\n",
      "| [-2.8360915457128...|    0|[8.06234696234792...|[0.99968491310463...|       0.0|\n",
      "| [-2.8335027835408...|    0|[7.14024424198860...|[0.99920806915475...|       0.0|\n",
      "| [-2.7892319842859...|    0|[5.56850692058449...|[0.99619833378794...|       0.0|\n",
      "| [-2.5775205423931...|    0|[4.99283245473161...|[0.99325932995438...|       0.0|\n",
      "| [-2.2889003089886...|    0|[7.99475542656361...|[0.99966288707554...|       0.0|\n",
      "| [-2.2697631474149...|    0|[10.7924778322447...|[0.99997944689195...|       0.0|\n",
      "| [-2.2677366920942...|    0|[7.55525408783361...|[0.99947692060789...|       0.0|\n",
      "| [-2.2130094048912...|    0|[8.82405045226284...|[0.99985287052735...|       0.0|\n",
      "| [-2.1017276692582...|    0|[12.0162232668605...|[0.99999395469918...|       0.0|\n",
      "| [-2.0933161860361...|    0|[7.46990760113273...|[0.99943034373318...|       0.0|\n",
      "| [-2.0563844097010...|    0|[1.62663125662407...|[0.83570763193766...|       0.0|\n",
      "| [-2.0491998755481...|    0|[9.58075891698609...|[0.99993096023804...|       0.0|\n",
      "| [-2.0377396586689...|    0|[14.5558269417436...|[0.99999952303723...|       0.0|\n",
      "| [-2.0111941155295...|    0|[11.2199564826737...|[0.99998659616752...|       0.0|\n",
      "| [-2.0031880309043...|    0|[12.0658488809556...|[0.99999424737700...|       0.0|\n",
      "| [-1.9907277591308...|    0|[1.98793086972452...|[0.87952406152723...|       0.0|\n",
      "+---------------------+-----+--------------------+--------------------+----------+\n",
      "only showing top 20 rows\n",
      "\n"
     ]
    }
   ],
   "source": [
    "# Showing the training results dataframe\n",
    "train_results.show()"
   ]
  },
  {
   "cell_type": "code",
   "execution_count": 45,
   "id": "6f9ae3f0-c623-4710-8e73-7d0a5ea39432",
   "metadata": {},
   "outputs": [],
   "source": [
    "# Testing the model and storing the predictions to a variable\n",
    "test_results = log_reg.evaluate(test_df).predictions"
   ]
  },
  {
   "cell_type": "code",
   "execution_count": 46,
   "id": "fb041efb-5e1e-4233-93cc-903f2938a042",
   "metadata": {},
   "outputs": [
    {
     "name": "stdout",
     "output_type": "stream",
     "text": [
      "+---------------------+-----+--------------------+--------------------+----------+\n",
      "|scaled_feature_vector|label|       rawPrediction|         probability|prediction|\n",
      "+---------------------+-----+--------------------+--------------------+----------+\n",
      "| [-3.8142700599364...|    0|[2.85822365450410...|[0.94574222049142...|       0.0|\n",
      "| [-2.9711010174825...|    0|[14.1684489367212...|[0.99999929738000...|       0.0|\n",
      "| [-2.4986969504351...|    0|[20.1805709306802...|[0.99999999827936...|       0.0|\n",
      "| [-2.4751988864036...|    0|[2.9303709259082,...|[0.94932752135160...|       0.0|\n",
      "| [-2.3738237877482...|    0|[6.65056521054904...|[0.99870837952385...|       0.0|\n",
      "| [-2.3720989618876...|    0|[-5.2182607147476...|[0.00538755917873...|       1.0|\n",
      "| [-2.2677990611091...|    0|[10.0888405109567...|[0.99995846117602...|       0.0|\n",
      "| [-2.2349838189795...|    0|[3.36128107832949...|[0.96647231306004...|       0.0|\n",
      "| [-2.0174389027581...|    0|[6.46992290034500...|[0.99845305157478...|       0.0|\n",
      "| [-1.9820193062026...|    0|[5.20192981763324...|[0.99452422052823...|       0.0|\n",
      "| [-1.9008412839318...|    0|[5.41744565598306...|[0.99558114340196...|       0.0|\n",
      "| [-1.6995951118311...|    0|[10.9917445225620...|[0.99998316013157...|       0.0|\n",
      "| [-1.6826604905124...|    0|[14.6544404119264...|[0.99999956782742...|       0.0|\n",
      "| [-1.6689726423953...|    0|[13.5025603360488...|[0.99999863254840...|       0.0|\n",
      "| [-1.6416744593762...|    0|[13.9079480805315...|[0.99999908829466...|       0.0|\n",
      "| [-1.3247522244110...|    0|[7.54418343888795...|[0.99947110068663...|       0.0|\n",
      "| [-1.3170415861107...|    0|[17.4793346140774...|[0.99999997436570...|       0.0|\n",
      "| [-1.2714385452687...|    0|[19.1488015772559...|[0.99999999517184...|       0.0|\n",
      "| [-1.2570209975991...|    0|[10.2869269662262...|[0.99996592549275...|       0.0|\n",
      "| [-1.2297845563205...|    0|[3.10699073354304...|[0.95718018669958...|       0.0|\n",
      "+---------------------+-----+--------------------+--------------------+----------+\n",
      "only showing top 20 rows\n",
      "\n"
     ]
    }
   ],
   "source": [
    "# Showing the results data\n",
    "test_results.show()"
   ]
  },
  {
   "cell_type": "code",
   "execution_count": 47,
   "id": "c950bc1a-bc59-4459-9ebc-cbd75aaec8ef",
   "metadata": {},
   "outputs": [
    {
     "name": "stdout",
     "output_type": "stream",
     "text": [
      "+-----+----------+\n",
      "|label|prediction|\n",
      "+-----+----------+\n",
      "|    0|       0.0|\n",
      "|    0|       0.0|\n",
      "|    0|       0.0|\n",
      "|    0|       0.0|\n",
      "|    0|       0.0|\n",
      "|    0|       1.0|\n",
      "|    0|       0.0|\n",
      "|    0|       0.0|\n",
      "|    0|       0.0|\n",
      "|    0|       0.0|\n",
      "+-----+----------+\n",
      "only showing top 10 rows\n",
      "\n"
     ]
    }
   ],
   "source": [
    "# Showing the lables and predictions to see which ones match up and which ones don't\n",
    "test_results.select([\"label\", \"prediction\"]).show(10)"
   ]
  },
  {
   "cell_type": "code",
   "execution_count": 48,
   "id": "15981bde-7c6e-4822-9917-9a0c72f99ead",
   "metadata": {},
   "outputs": [
    {
     "data": {
      "text/plain": [
       "408"
      ]
     },
     "execution_count": 48,
     "metadata": {},
     "output_type": "execute_result"
    }
   ],
   "source": [
    "# Finding the number of true positive results\n",
    "tp = test_results[(test_results.label==1) & (test_results.prediction==1)].count()\n",
    "tp"
   ]
  },
  {
   "cell_type": "code",
   "execution_count": 49,
   "id": "d6b947dc-e279-4bb6-aea4-6a6eef73ad50",
   "metadata": {},
   "outputs": [
    {
     "data": {
      "text/plain": [
       "409"
      ]
     },
     "execution_count": 49,
     "metadata": {},
     "output_type": "execute_result"
    }
   ],
   "source": [
    "# Finding the number of true negative results\n",
    "tn = test_results[(test_results.label==0) & (test_results.prediction==0)].count()\n",
    "tn"
   ]
  },
  {
   "cell_type": "code",
   "execution_count": 50,
   "id": "a1402735-52ab-40da-a2c0-9e1d676aadfd",
   "metadata": {},
   "outputs": [
    {
     "data": {
      "text/plain": [
       "5"
      ]
     },
     "execution_count": 50,
     "metadata": {},
     "output_type": "execute_result"
    }
   ],
   "source": [
    "# Finding the number of false positive results\n",
    "fp = test_results[(test_results.label==0) & (test_results.prediction==1)].count()\n",
    "fp"
   ]
  },
  {
   "cell_type": "code",
   "execution_count": 51,
   "id": "29cbc50b-b511-4945-95f1-9600f045894d",
   "metadata": {},
   "outputs": [
    {
     "data": {
      "text/plain": [
       "4"
      ]
     },
     "execution_count": 51,
     "metadata": {},
     "output_type": "execute_result"
    }
   ],
   "source": [
    "# Finding the number of false negative results\n",
    "fn = test_results[(test_results.label==1) & (test_results.prediction==0)].count()\n",
    "fn"
   ]
  },
  {
   "cell_type": "code",
   "execution_count": 52,
   "id": "35d746e7-3b1a-490b-bc70-f51a329dac8e",
   "metadata": {},
   "outputs": [],
   "source": [
    "from pyspark.sql.functions import asc\n",
    "from pyspark.sql.functions import desc"
   ]
  },
  {
   "cell_type": "code",
   "execution_count": 53,
   "id": "f7b7f344-d923-45ce-a65b-e1096c572ff9",
   "metadata": {},
   "outputs": [
    {
     "name": "stdout",
     "output_type": "stream",
     "text": [
      "+-----+----------+-----+\n",
      "|label|prediction|count|\n",
      "+-----+----------+-----+\n",
      "|    0|       0.0|  409|\n",
      "|    0|       1.0|    5|\n",
      "|    1|       0.0|    4|\n",
      "|    1|       1.0|  408|\n",
      "+-----+----------+-----+\n",
      "\n"
     ]
    }
   ],
   "source": [
    "test_results.groupBy(\"label\", \"prediction\").count().sort(asc(\"label\"), asc(\"prediction\")).show()"
   ]
  },
  {
   "cell_type": "code",
   "execution_count": 54,
   "id": "3d9d806f-db5f-4c53-9a44-f94f6395bdd5",
   "metadata": {},
   "outputs": [
    {
     "data": {
      "text/plain": [
       "0.9891041162227603"
      ]
     },
     "execution_count": 54,
     "metadata": {},
     "output_type": "execute_result"
    }
   ],
   "source": [
    "# Finding the accuracy of the model manually\n",
    "accuracy = float((tp+tn) / test_results.count())\n",
    "accuracy"
   ]
  },
  {
   "cell_type": "code",
   "execution_count": 55,
   "id": "ba454856-21b7-4599-adc8-67b807112514",
   "metadata": {},
   "outputs": [
    {
     "data": {
      "text/plain": [
       "0.9878934624697336"
      ]
     },
     "execution_count": 55,
     "metadata": {},
     "output_type": "execute_result"
    }
   ],
   "source": [
    "# Finding the precision of the model manually (the quality of a positive prediction made by the model)\n",
    "precision = tp / (tp + fp)\n",
    "precision"
   ]
  },
  {
   "cell_type": "code",
   "execution_count": 56,
   "id": "e14e7276-bf09-49ae-ba2b-4667854acee1",
   "metadata": {},
   "outputs": [
    {
     "data": {
      "text/plain": [
       "0.5006119951040392"
      ]
     },
     "execution_count": 56,
     "metadata": {},
     "output_type": "execute_result"
    }
   ],
   "source": [
    "# Percantage of the resluts that were tp or the TPR (True Positive Rate)\n",
    "recall = float(tn) / (tp + tn)\n",
    "recall"
   ]
  },
  {
   "cell_type": "code",
   "execution_count": 57,
   "id": "1711c51a-c978-49ec-8bf7-c693a3e15bc0",
   "metadata": {},
   "outputs": [
    {
     "data": {
      "text/plain": [
       "0.9891041162227603"
      ]
     },
     "execution_count": 57,
     "metadata": {},
     "output_type": "execute_result"
    }
   ],
   "source": [
    "# Importing multiclass classification evaluator from pyspark\n",
    "from pyspark.ml.evaluation import MulticlassClassificationEvaluator\n",
    "\n",
    "# Save the evalutor to a variable with the resuts input and metric\n",
    "multi_evaluator = MulticlassClassificationEvaluator(labelCol=\"label\", metricName='accuracy')\n",
    "\n",
    "# Returns the accuarcy given the test results data\n",
    "# Showing you can get the accuracy a different way\n",
    "multi_evaluator.evaluate(test_results)"
   ]
  },
  {
   "cell_type": "markdown",
   "id": "6051e316-5f43-4b40-ae1b-b438c0799a33",
   "metadata": {},
   "source": [
    "# Metrics with MulticlassMetrics"
   ]
  },
  {
   "cell_type": "code",
   "execution_count": 58,
   "id": "622c84dc-927c-4e66-898f-7e085b92c525",
   "metadata": {},
   "outputs": [],
   "source": [
    "from pyspark.mllib.evaluation import MulticlassMetrics"
   ]
  },
  {
   "cell_type": "code",
   "execution_count": 59,
   "id": "e5fa775d-49c3-4e90-bffc-38a34cb10954",
   "metadata": {},
   "outputs": [],
   "source": [
    "rdd = test_results.select(\"prediction\",\"label\")"
   ]
  },
  {
   "cell_type": "code",
   "execution_count": 60,
   "id": "3fad4cc0-9bb4-4fa8-923e-7b19b771f43e",
   "metadata": {},
   "outputs": [
    {
     "data": {
      "text/plain": [
       "StructType([StructField('prediction', DoubleType(), False), StructField('label', IntegerType(), True)])"
      ]
     },
     "execution_count": 60,
     "metadata": {},
     "output_type": "execute_result"
    }
   ],
   "source": [
    "rdd.schema"
   ]
  },
  {
   "cell_type": "code",
   "execution_count": 61,
   "id": "2f29ca51-fadd-4c89-8ae5-4a1132402e32",
   "metadata": {},
   "outputs": [],
   "source": [
    "rdd = rdd.withColumn(\"label\", rdd[\"label\"].cast('double')) "
   ]
  },
  {
   "cell_type": "code",
   "execution_count": 62,
   "id": "3fcd5655-66b3-4c63-afaa-5665d18e9124",
   "metadata": {},
   "outputs": [
    {
     "data": {
      "text/plain": [
       "StructType([StructField('prediction', DoubleType(), False), StructField('label', DoubleType(), True)])"
      ]
     },
     "execution_count": 62,
     "metadata": {},
     "output_type": "execute_result"
    }
   ],
   "source": [
    "rdd.schema"
   ]
  },
  {
   "cell_type": "code",
   "execution_count": 63,
   "id": "26289e80-125e-4617-8845-b9f746549b00",
   "metadata": {},
   "outputs": [],
   "source": [
    "rdd = rdd.rdd"
   ]
  },
  {
   "cell_type": "code",
   "execution_count": 64,
   "id": "45b57e9b-6bff-45e1-8e76-950f629fb9bb",
   "metadata": {},
   "outputs": [],
   "source": [
    "rdd = rdd.map(tuple)"
   ]
  },
  {
   "cell_type": "code",
   "execution_count": 65,
   "id": "1e56d4be-5f45-47b6-8598-d24f83b3dabd",
   "metadata": {},
   "outputs": [
    {
     "name": "stderr",
     "output_type": "stream",
     "text": [
      "/home/jovyan/.local/lib/python3.11/site-packages/pyspark/sql/context.py:158: FutureWarning: Deprecated in 3.0.0. Use SparkSession.builder.getOrCreate() instead.\n",
      "  warnings.warn(\n",
      "                                                                                \r"
     ]
    }
   ],
   "source": [
    "metrics = MulticlassMetrics(rdd)"
   ]
  },
  {
   "cell_type": "code",
   "execution_count": 66,
   "id": "4e4b7f43-3f31-4c33-b812-01c5d2a2a82c",
   "metadata": {},
   "outputs": [
    {
     "name": "stdout",
     "output_type": "stream",
     "text": [
      "Summary Stats\n",
      "Precision = 0.9878934624697336\n",
      "Recall = 0.9902912621359223\n",
      "F1 Score = 0.989090909090909\n"
     ]
    }
   ],
   "source": [
    "precision = metrics.precision(1.0)\n",
    "recall = metrics.recall(1.0)\n",
    "f1Score = metrics.fMeasure(1.0)\n",
    "print(\"Summary Stats\")\n",
    "print(\"Precision = %s\" % precision)\n",
    "print(\"Recall = %s\" % recall)\n",
    "print(\"F1 Score = %s\" % f1Score)"
   ]
  },
  {
   "cell_type": "code",
   "execution_count": 67,
   "id": "e3897a74-098e-4669-9bc1-b12288ed5948",
   "metadata": {},
   "outputs": [
    {
     "name": "stderr",
     "output_type": "stream",
     "text": [
      "[Stage 209:============================>                            (1 + 1) / 2]\r"
     ]
    },
    {
     "name": "stdout",
     "output_type": "stream",
     "text": [
      "Class 0.0 precision = 0.9903147699757869\n",
      "Class 0.0 recall = 0.9879227053140096\n",
      "Class 0.0 F1 Measure = 0.9891172914147521\n",
      "Class 1.0 precision = 0.9878934624697336\n",
      "Class 1.0 recall = 0.9902912621359223\n",
      "Class 1.0 F1 Measure = 0.989090909090909\n"
     ]
    },
    {
     "name": "stderr",
     "output_type": "stream",
     "text": [
      "                                                                                \r"
     ]
    }
   ],
   "source": [
    "# Statistics by class\n",
    "training_rdd = training_df.withColumn(\"label\", training_df[\"label\"].cast('double'))\n",
    "labels = training_rdd.rdd.map(lambda lp: lp.label).distinct().collect()\n",
    "for label in sorted(labels):\n",
    "    print(\"Class %s precision = %s\" % (label, metrics.precision(label)))\n",
    "    print(\"Class %s recall = %s\" % (label, metrics.recall(label)))\n",
    "    print(\"Class %s F1 Measure = %s\" % (label, metrics.fMeasure(label, beta=1.0)))"
   ]
  },
  {
   "cell_type": "code",
   "execution_count": 68,
   "id": "ce2d2df5-cf17-4aff-84f2-557b4b252124",
   "metadata": {},
   "outputs": [
    {
     "name": "stdout",
     "output_type": "stream",
     "text": [
      "Weighted recall = 0.9891041162227603\n",
      "Weighted precision = 0.9891070475877797\n",
      "Weighted F(1) Score = 0.98910413219269\n",
      "Weighted F(0.5) Score = 0.9891055334990421\n",
      "Weighted false positive rate = 0.010890148772828298\n"
     ]
    }
   ],
   "source": [
    "# Weighted stats\n",
    "print(\"Weighted recall = %s\" % metrics.weightedRecall)\n",
    "print(\"Weighted precision = %s\" % metrics.weightedPrecision)\n",
    "print(\"Weighted F(1) Score = %s\" % metrics.weightedFMeasure())\n",
    "print(\"Weighted F(0.5) Score = %s\" % metrics.weightedFMeasure(beta=0.5))\n",
    "print(\"Weighted false positive rate = %s\" % metrics.weightedFalsePositiveRate)"
   ]
  },
  {
   "cell_type": "markdown",
   "id": "c41165a3-840e-4255-9968-6d516dcb51e4",
   "metadata": {},
   "source": [
    "# Save the model"
   ]
  },
  {
   "cell_type": "code",
   "execution_count": null,
   "id": "5f58f757-0234-4dae-b2e0-7a378bfb9f36",
   "metadata": {},
   "outputs": [],
   "source": [
    "log_reg.save(\"log_reg_model.model\")"
   ]
  },
  {
   "cell_type": "code",
   "execution_count": null,
   "id": "404c3d26-1af3-4615-9d66-eaf178fb26ff",
   "metadata": {},
   "outputs": [],
   "source": [
    "from pyspark.ml.classification import LogisticRegressionModel\n",
    "\n",
    "sameModel = LogisticRegressionModel.load(\"./log_reg_model.model\")\n",
    "\n",
    "sameModel"
   ]
  },
  {
   "cell_type": "code",
   "execution_count": null,
   "id": "b456d4ef-8479-4cc9-9ec4-7f42eddbaf6a",
   "metadata": {},
   "outputs": [],
   "source": [
    "validation_results = sameModel.evaluate(validation_df).predictions"
   ]
  },
  {
   "cell_type": "code",
   "execution_count": null,
   "id": "4f3e05d4-ddd0-4814-bfa4-76ad03a766be",
   "metadata": {},
   "outputs": [],
   "source": [
    "validation_results.show()"
   ]
  },
  {
   "cell_type": "code",
   "execution_count": null,
   "id": "9610364b-cd7b-4255-8dbc-37e40d0a7b4b",
   "metadata": {},
   "outputs": [],
   "source": [
    "multi_evaluator.evaluate(validation_results)"
   ]
  },
  {
   "cell_type": "markdown",
   "id": "0d514f11-680e-46c0-8847-e33eac790d08",
   "metadata": {},
   "source": [
    "# Plot confusion matrix"
   ]
  },
  {
   "cell_type": "code",
   "execution_count": 69,
   "id": "90a3c773-db74-4384-8892-19862ba77392",
   "metadata": {},
   "outputs": [
    {
     "data": {
      "image/png": "[encoded data removed]",
      "text/plain": [
       "<Figure size 640x480 with 2 Axes>"
      ]
     },
     "metadata": {},
     "output_type": "display_data"
    }
   ],
   "source": [
    "import matplotlib.pyplot as plt\n",
    "import numpy\n",
    "from sklearn import metrics\n",
    "\n",
    "confusion_matrix = numpy.array([[tp, fp], [fn, tn]])\n",
    "\n",
    "cm_display = metrics.ConfusionMatrixDisplay(confusion_matrix = confusion_matrix, display_labels = ['Positive', 'Negative'])\n",
    "cm_display.plot()\n",
    "plt.title(\"Logistic Regression\")\n",
    "plt.savefig('./Log_Reg_CM.png')\n",
    "plt.show()"
   ]
  },
  {
   "cell_type": "markdown",
   "id": "8fab5133-2ac6-4ae0-aa56-13b52cb6c849",
   "metadata": {},
   "source": [
    "# SVM"
   ]
  },
  {
   "cell_type": "code",
   "execution_count": null,
   "id": "bd30acb2-dd35-4f25-acd9-b86c1ffdd61d",
   "metadata": {},
   "outputs": [],
   "source": [
    "from pyspark.ml.classification import LinearSVC\n",
    "\n",
    "lsvc = LinearSVC(maxIter=10, regParam=0.1)\n",
    "\n",
    "# Fit the model\n",
    "lsvcModel = lsvc(featuresCol=\"scaled_feature_vector\", labelCol=\"label\").fit(training_df)\n",
    "\n",
    "# Print the coefficients and intercept for linearsSVC\n",
    "print(\"Coefficients: \" + str(lsvcModel.coefficients))\n",
    "print(\"Intercept: \" + str(lsvcModel.intercept))"
   ]
  },
  {
   "cell_type": "markdown",
   "id": "48559029-82a1-4e86-8d15-2bf3884974b8",
   "metadata": {},
   "source": [
    "# Random Forest Tree"
   ]
  },
  {
   "cell_type": "code",
   "execution_count": 70,
   "id": "f2f52097-71ef-43ed-872a-6eec52db4b26",
   "metadata": {},
   "outputs": [
    {
     "name": "stderr",
     "output_type": "stream",
     "text": [
      "                                                                                \r"
     ]
    }
   ],
   "source": [
    "from pyspark.ml import Pipeline\n",
    "from pyspark.ml.classification import RandomForestClassifier\n",
    "from pyspark.ml.feature import IndexToString, StringIndexer, VectorIndexer\n",
    "from pyspark.ml.evaluation import MulticlassClassificationEvaluator\n",
    "\n",
    "# Train a RandomForest model.\n",
    "rf_model = RandomForestClassifier(labelCol=\"label\", \\\n",
    "                            featuresCol=\"scaled_feature_vector\", \\\n",
    "                            numTrees=12).fit(training_df)"
   ]
  },
  {
   "cell_type": "code",
   "execution_count": 71,
   "id": "e424ca2a-add0-411e-b4a0-52279fa2f7be",
   "metadata": {},
   "outputs": [],
   "source": [
    "# Make predictions.\n",
    "#predictions = rf_model.transform(test_df)\n",
    "test_results_RFT = log_reg.evaluate(test_df).predictions"
   ]
  },
  {
   "cell_type": "code",
   "execution_count": 72,
   "id": "2d5bdad8-03a9-44f6-8071-31acb1d71085",
   "metadata": {},
   "outputs": [
    {
     "name": "stdout",
     "output_type": "stream",
     "text": [
      "+---------------------+-----+----------+\n",
      "|scaled_feature_vector|label|prediction|\n",
      "+---------------------+-----+----------+\n",
      "| [-3.8142700599364...|    0|       0.0|\n",
      "| [-2.9711010174825...|    0|       0.0|\n",
      "| [-2.4986969504351...|    0|       0.0|\n",
      "| [-2.4751988864036...|    0|       0.0|\n",
      "| [-2.3738237877482...|    0|       0.0|\n",
      "| [-2.3720989618876...|    0|       1.0|\n",
      "| [-2.2677990611091...|    0|       0.0|\n",
      "| [-2.2349838189795...|    0|       0.0|\n",
      "| [-2.0174389027581...|    0|       0.0|\n",
      "| [-1.9820193062026...|    0|       0.0|\n",
      "+---------------------+-----+----------+\n",
      "only showing top 10 rows\n",
      "\n"
     ]
    }
   ],
   "source": [
    "# Select example rows to display.\n",
    "test_results_RFT.select(\"scaled_feature_vector\", \"label\", \"prediction\").show(10)"
   ]
  },
  {
   "cell_type": "code",
   "execution_count": 73,
   "id": "e77694d4-4dff-4cba-8094-662240d5b79b",
   "metadata": {},
   "outputs": [],
   "source": [
    "# Save the evalutor to a variable with the resuts input and metric\n",
    "multi_evaluator_RFT = MulticlassClassificationEvaluator(labelCol=\"label\", metricName='accuracy')"
   ]
  },
  {
   "cell_type": "code",
   "execution_count": 74,
   "id": "86d03b76-67d2-43c9-999b-4c31a1f806cf",
   "metadata": {},
   "outputs": [
    {
     "data": {
      "text/plain": [
       "0.9891041162227603"
      ]
     },
     "execution_count": 74,
     "metadata": {},
     "output_type": "execute_result"
    }
   ],
   "source": [
    "multi_evaluator_RFT.evaluate(test_results_RFT)"
   ]
  },
  {
   "cell_type": "code",
   "execution_count": 75,
   "id": "36d113c7-a9d7-471c-b587-f4a43ca76e9e",
   "metadata": {},
   "outputs": [],
   "source": [
    "validation_results_RFT = rf_model.evaluate(validation_df).predictions"
   ]
  },
  {
   "cell_type": "code",
   "execution_count": 76,
   "id": "66d7f8d7-46d8-48b0-af34-5460842a9570",
   "metadata": {},
   "outputs": [
    {
     "data": {
      "text/plain": [
       "0.9886877828054299"
      ]
     },
     "execution_count": 76,
     "metadata": {},
     "output_type": "execute_result"
    }
   ],
   "source": [
    "multi_evaluator_RFT.evaluate(validation_results_RFT)"
   ]
  }
 ],
 "metadata": {
  "kernelspec": {
   "display_name": "Python 3 (ipykernel)",
   "language": "python",
   "name": "python3"
  },
  "language_info": {
   "codemirror_mode": {
    "name": "ipython",
    "version": 3
   },
   "file_extension": ".py",
   "mimetype": "text/x-python",
   "name": "python",
   "nbconvert_exporter": "python",
   "pygments_lexer": "ipython3",
   "version": "3.11.5"
  }
 },
 "nbformat": 4,
 "nbformat_minor": 5
}
